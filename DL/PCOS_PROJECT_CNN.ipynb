{
  "cells": [
    {
      "cell_type": "markdown",
      "metadata": {
        "id": "0z6RR5EUz88C"
      },
      "source": [
        "#**PROJECT :PCOS DETECTION USING ULTRASOUND IMAGES**\n",
        "\n",
        "![pcos1.jfif](data:image/jpeg;base64,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)"
      ]
    },
    {
      "cell_type": "markdown",
      "metadata": {
        "id": "khSSbwTu0NAK"
      },
      "source": [
        "**ABOUT DATASET**\n",
        "\n",
        "Data folder consist of 'train' and 'test' subfolders containing 2 categories of data 'infected' and 'notinfected'\n",
        "\n",
        "infected : Images of ovaries having PCOS\n",
        "\n",
        "notinfected : Images of healthy ovaries"
      ]
    },
    {
      "cell_type": "markdown",
      "metadata": {
        "id": "VVFa2lGo1NgF"
      },
      "source": [
        "**IMPORT NECESSARY LIBRARIES**"
      ]
    },
    {
      "cell_type": "code",
      "execution_count": null,
      "metadata": {
        "id": "iJkcKFl3z10r"
      },
      "outputs": [],
      "source": [
        "import pandas as pd\n",
        "from skimage.io import imread\n",
        "from skimage.transform import resize\n",
        "import os\n",
        "import numpy as np\n",
        "import matplotlib.pyplot as plt\n",
        "import seaborn as sns\n",
        "from keras.models import Sequential\n",
        "from keras.layers import Dense,Conv2D,MaxPool2D,Flatten\n",
        "from sklearn.preprocessing import LabelEncoder #to change the datatype into integer\n",
        "\n",
        "import tensorflow as tf\n"
      ]
    },
    {
      "cell_type": "markdown",
      "metadata": {
        "id": "-nsqcETaAJGQ"
      },
      "source": [
        "**LIST FILES IN THE TRAINING DIRECTORY**"
      ]
    },
    {
      "cell_type": "code",
      "execution_count": null,
      "metadata": {
        "colab": {
          "base_uri": "https://localhost:8080/"
        },
        "id": "APb-Wtjd1VUe",
        "outputId": "3da90c60-9bf3-4de8-a0d8-7d4ab958b0da"
      },
      "outputs": [
        {
          "output_type": "execute_result",
          "data": {
            "text/plain": [
              "['notinfected', 'infected']"
            ]
          },
          "metadata": {},
          "execution_count": 11
        }
      ],
      "source": [
        "os.listdir('/content/drive/MyDrive/PCOS/PCOD/train')"
      ]
    },
    {
      "cell_type": "code",
      "execution_count": null,
      "metadata": {
        "id": "O4UyrV5L1Yvz"
      },
      "outputs": [],
      "source": [
        "datadir='/content/drive/MyDrive/PCOS/PCOD/train'"
      ]
    },
    {
      "cell_type": "markdown",
      "metadata": {
        "id": "C0fSmyeVAYCq"
      },
      "source": [
        "**LOAD THE IMAGE FOR TRAINING**"
      ]
    },
    {
      "cell_type": "code",
      "execution_count": null,
      "metadata": {
        "colab": {
          "base_uri": "https://localhost:8080/"
        },
        "id": "zz1XlvFvc88C",
        "outputId": "46147114-2da8-408d-e628-de0061175c9d"
      },
      "outputs": [
        {
          "output_type": "stream",
          "name": "stdout",
          "text": [
            "Loading............ notinfected\n",
            "Completed....... notinfected\n",
            "Loading............ infected\n",
            "Completed....... infected\n"
          ]
        }
      ],
      "source": [
        "X_train=[] #to store the images in training\n",
        "y_train=[] #to store the class labels in training\n",
        "Categories=['notinfected', 'infected'] #categories in training data\n",
        "#to get the path of 4 folders we use loop\n",
        "datadir='/content/drive/MyDrive/PCOS/PCOD/train'\n",
        "for i in Categories:\n",
        "  print(\"Loading............\",i) #to know the what are the categories are loaded\n",
        "  path=os.path.join(datadir,i) #to get the path of each\n",
        "  #print(path)\n",
        "  images=os.listdir(path) #to get the list the images\n",
        "  #print(images)\n",
        "  #to get path of each image\n",
        "  for img in images:\n",
        "    img_path=os.path.join(path,img)\n",
        "    #print(img_path)\n",
        "    #after get the path , to read each image using array format\n",
        "    img_arr=imread(img_path)\n",
        "    img_resized=resize(img_arr,(150,150,1)) #for resize the image.here 1 represent gray scale image\n",
        "    X_train.append(img_resized) #append the images to training set\n",
        "    y_train.append(Categories.index(i)) #to append class labels\n",
        "  print(\"Completed.......\",i) #to know, which categories are loaded"
      ]
    },
    {
      "cell_type": "code",
      "execution_count": null,
      "metadata": {
        "colab": {
          "base_uri": "https://localhost:8080/"
        },
        "id": "mSW93ORO13UB",
        "outputId": "1f51184c-2e35-409a-fedb-af87493003e7"
      },
      "outputs": [
        {
          "output_type": "execute_result",
          "data": {
            "text/plain": [
              "(259, 280, 3)"
            ]
          },
          "metadata": {},
          "execution_count": 14
        }
      ],
      "source": [
        "img_arr.shape"
      ]
    },
    {
      "cell_type": "code",
      "execution_count": null,
      "metadata": {
        "colab": {
          "base_uri": "https://localhost:8080/"
        },
        "id": "Ab1To3nk16RA",
        "outputId": "4d56e5d8-0b39-4c92-9c0c-103f8527146b"
      },
      "outputs": [
        {
          "output_type": "stream",
          "name": "stdout",
          "text": [
            "[[[ 3  3  3]\n",
            "  [13 13 13]\n",
            "  [ 2  2  2]\n",
            "  ...\n",
            "  [ 0  0  0]\n",
            "  [ 0  0  0]\n",
            "  [ 0  0  0]]\n",
            "\n",
            " [[ 0  0  0]\n",
            "  [ 7  7  7]\n",
            "  [ 1  1  1]\n",
            "  ...\n",
            "  [ 1  1  1]\n",
            "  [ 1  1  1]\n",
            "  [ 1  1  1]]\n",
            "\n",
            " [[ 8  8  8]\n",
            "  [12 12 12]\n",
            "  [ 9  9  9]\n",
            "  ...\n",
            "  [ 0  0  0]\n",
            "  [ 0  0  0]\n",
            "  [ 0  0  0]]\n",
            "\n",
            " ...\n",
            "\n",
            " [[ 0  0  0]\n",
            "  [ 0  0  0]\n",
            "  [ 0  0  0]\n",
            "  ...\n",
            "  [ 0  0  0]\n",
            "  [ 0  0  0]\n",
            "  [ 0  0  0]]\n",
            "\n",
            " [[ 0  0  0]\n",
            "  [ 0  0  0]\n",
            "  [ 0  0  0]\n",
            "  ...\n",
            "  [ 0  0  0]\n",
            "  [ 0  0  0]\n",
            "  [ 0  0  0]]\n",
            "\n",
            " [[ 0  0  0]\n",
            "  [ 0  0  0]\n",
            "  [ 0  0  0]\n",
            "  ...\n",
            "  [ 0  0  0]\n",
            "  [ 0  0  0]\n",
            "  [ 0  0  0]]]\n"
          ]
        }
      ],
      "source": [
        "print(img_arr)"
      ]
    },
    {
      "cell_type": "code",
      "execution_count": null,
      "metadata": {
        "colab": {
          "base_uri": "https://localhost:8080/"
        },
        "id": "CEGpEnSE19dp",
        "outputId": "d13e21d9-fa36-4dc2-b993-b49486ed7f76"
      },
      "outputs": [
        {
          "output_type": "execute_result",
          "data": {
            "text/plain": [
              "(150, 150, 1)"
            ]
          },
          "metadata": {},
          "execution_count": 16
        }
      ],
      "source": [
        "img_resized.shape"
      ]
    },
    {
      "cell_type": "code",
      "execution_count": null,
      "metadata": {
        "colab": {
          "base_uri": "https://localhost:8080/"
        },
        "id": "4UXKeNZJ2BdA",
        "outputId": "2eefbf71-6017-4fc3-998c-551e8a1bcbcb"
      },
      "outputs": [
        {
          "output_type": "execute_result",
          "data": {
            "text/plain": [
              "array([[[2.30460702e-02],\n",
              "        [6.82378588e-03],\n",
              "        [3.59615437e-02],\n",
              "        ...,\n",
              "        [1.47129074e-03],\n",
              "        [1.47129074e-03],\n",
              "        [1.47129074e-03]],\n",
              "\n",
              "       [[4.27299598e-02],\n",
              "        [4.68121458e-02],\n",
              "        [1.33206478e-01],\n",
              "        ...,\n",
              "        [1.15568830e-04],\n",
              "        [1.15568830e-04],\n",
              "        [1.15568830e-04]],\n",
              "\n",
              "       [[7.92285801e-02],\n",
              "        [8.43635903e-02],\n",
              "        [1.60657274e-01],\n",
              "        ...,\n",
              "        [1.56745799e-02],\n",
              "        [1.56745799e-02],\n",
              "        [1.56745799e-02]],\n",
              "\n",
              "       ...,\n",
              "\n",
              "       [[0.00000000e+00],\n",
              "        [0.00000000e+00],\n",
              "        [0.00000000e+00],\n",
              "        ...,\n",
              "        [0.00000000e+00],\n",
              "        [0.00000000e+00],\n",
              "        [0.00000000e+00]],\n",
              "\n",
              "       [[0.00000000e+00],\n",
              "        [0.00000000e+00],\n",
              "        [0.00000000e+00],\n",
              "        ...,\n",
              "        [0.00000000e+00],\n",
              "        [0.00000000e+00],\n",
              "        [0.00000000e+00]],\n",
              "\n",
              "       [[0.00000000e+00],\n",
              "        [0.00000000e+00],\n",
              "        [0.00000000e+00],\n",
              "        ...,\n",
              "        [0.00000000e+00],\n",
              "        [0.00000000e+00],\n",
              "        [0.00000000e+00]]])"
            ]
          },
          "metadata": {},
          "execution_count": 17
        }
      ],
      "source": [
        "img_resized"
      ]
    },
    {
      "cell_type": "markdown",
      "metadata": {
        "id": "wS45OzHWAl-w"
      },
      "source": [
        "**LOAD THE IMAGE FOR TESTING**"
      ]
    },
    {
      "cell_type": "code",
      "execution_count": null,
      "metadata": {
        "colab": {
          "base_uri": "https://localhost:8080/"
        },
        "id": "SStxyWKblV51",
        "outputId": "d13341f5-b03f-43f8-c0b9-1988e3071832"
      },
      "outputs": [
        {
          "output_type": "stream",
          "name": "stdout",
          "text": [
            "Loading............ notinfected\n",
            "Completed....... notinfected\n",
            "Loading............ infected\n",
            "Completed....... infected\n"
          ]
        }
      ],
      "source": [
        "X_test=[]\n",
        "y_test=[]\n",
        "Categories=['notinfected', 'infected']\n",
        "datadir='/content/drive/MyDrive/PCOS/PCOD/test'\n",
        "for i in Categories:\n",
        "  print(\"Loading............\",i)\n",
        "  path=os.path.join(datadir,i)\n",
        "  #print(path)\n",
        "  images=os.listdir(path)\n",
        "  #print(images)\n",
        "  for img in images:\n",
        "    img_path=os.path.join(path,img)\n",
        "    #print(img_path)\n",
        "    img_arr=imread(img_path)\n",
        "    img_resized=resize(img_arr,(150,150,1))\n",
        "    X_test.append(img_resized)\n",
        "    y_test.append(Categories.index(i))\n",
        "  print(\"Completed.......\",i)"
      ]
    },
    {
      "cell_type": "markdown",
      "metadata": {
        "id": "voVmfBc0BQkN"
      },
      "source": [
        "**CONVERTING DATA INTO ARRAY**"
      ]
    },
    {
      "cell_type": "code",
      "execution_count": null,
      "metadata": {
        "id": "zREcBAby2I6o"
      },
      "outputs": [],
      "source": [
        "X_train=np.array(X_train)\n",
        "y_train=np.array(y_train)\n",
        "X_test=np.array(X_test)\n",
        "y_test=np.array(y_test)"
      ]
    },
    {
      "cell_type": "markdown",
      "metadata": {
        "id": "_evg_SIRBZ2C"
      },
      "source": [
        "**CHECKING SHAPE OF TRAINED AND TESTED DATA**"
      ]
    },
    {
      "cell_type": "code",
      "execution_count": null,
      "metadata": {
        "id": "LLKkCkDC2MMM",
        "colab": {
          "base_uri": "https://localhost:8080/"
        },
        "outputId": "2852fb9b-7603-49a0-845e-6d75c90e046f"
      },
      "outputs": [
        {
          "output_type": "execute_result",
          "data": {
            "text/plain": [
              "(1929, 150, 150, 1)"
            ]
          },
          "metadata": {},
          "execution_count": 20
        }
      ],
      "source": [
        "X_train.shape"
      ]
    },
    {
      "cell_type": "code",
      "execution_count": null,
      "metadata": {
        "id": "9tms1YBi2PMv",
        "colab": {
          "base_uri": "https://localhost:8080/"
        },
        "outputId": "9c346473-ba8d-4fad-fb3c-8e1731247b8e"
      },
      "outputs": [
        {
          "output_type": "execute_result",
          "data": {
            "text/plain": [
              "(1922, 150, 150, 1)"
            ]
          },
          "metadata": {},
          "execution_count": 21
        }
      ],
      "source": [
        "X_test.shape"
      ]
    },
    {
      "cell_type": "markdown",
      "metadata": {
        "id": "m--0tPqsBkxx"
      },
      "source": [
        "**BUILD THE MODEL AND ADD LAYERS**"
      ]
    },
    {
      "cell_type": "code",
      "execution_count": null,
      "metadata": {
        "id": "oVVCuhQ_2R8g"
      },
      "outputs": [],
      "source": [
        "model=Sequential()\n",
        "model.add(Conv2D(32,(3,3),input_shape=(150,150,1),activation='relu'))\n",
        "model.add(MaxPool2D(2,2))\n",
        "model.add(Conv2D(32,(3,3),activation='relu'))\n",
        "model.add(MaxPool2D(2,2))\n",
        "model.add(Flatten())\n",
        "model.add(Dense(100,activation='relu'))\n",
        "model.add(Dense(4,activation='softmax'))"
      ]
    },
    {
      "cell_type": "markdown",
      "metadata": {
        "id": "vrvkGJS3BxAk"
      },
      "source": [
        "**COMPILE THE MODEL**"
      ]
    },
    {
      "cell_type": "code",
      "execution_count": null,
      "metadata": {
        "id": "Yq7zA7fg2U29"
      },
      "outputs": [],
      "source": [
        "model.compile(optimizer='adam',loss='sparse_categorical_crossentropy',metrics=['accuracy'])"
      ]
    },
    {
      "cell_type": "markdown",
      "metadata": {
        "id": "AYTr3uPaB0Kj"
      },
      "source": [
        "**FIT THE MODEL**"
      ]
    },
    {
      "cell_type": "code",
      "execution_count": null,
      "metadata": {
        "id": "kjSN4pjz2Xdp",
        "colab": {
          "base_uri": "https://localhost:8080/"
        },
        "outputId": "dfffcd46-a82b-4879-8599-253654cd46ca"
      },
      "outputs": [
        {
          "output_type": "stream",
          "name": "stdout",
          "text": [
            "Epoch 1/20\n",
            "97/97 [==============================] - 57s 545ms/step - loss: 0.1604 - accuracy: 0.9295\n",
            "Epoch 2/20\n",
            "97/97 [==============================] - 50s 514ms/step - loss: 0.0011 - accuracy: 1.0000\n",
            "Epoch 3/20\n",
            "97/97 [==============================] - 50s 513ms/step - loss: 4.2594e-04 - accuracy: 1.0000\n",
            "Epoch 4/20\n",
            "97/97 [==============================] - 49s 506ms/step - loss: 1.2318e-04 - accuracy: 1.0000\n",
            "Epoch 5/20\n",
            "97/97 [==============================] - 47s 489ms/step - loss: 8.0430e-05 - accuracy: 1.0000\n",
            "Epoch 6/20\n",
            "97/97 [==============================] - 48s 497ms/step - loss: 5.6806e-05 - accuracy: 1.0000\n",
            "Epoch 7/20\n",
            "97/97 [==============================] - 49s 505ms/step - loss: 4.4317e-05 - accuracy: 1.0000\n",
            "Epoch 8/20\n",
            "97/97 [==============================] - 49s 501ms/step - loss: 3.3541e-05 - accuracy: 1.0000\n",
            "Epoch 9/20\n",
            "97/97 [==============================] - 49s 504ms/step - loss: 2.5735e-05 - accuracy: 1.0000\n",
            "Epoch 10/20\n",
            "97/97 [==============================] - 49s 506ms/step - loss: 2.0779e-05 - accuracy: 1.0000\n",
            "Epoch 11/20\n",
            "97/97 [==============================] - 48s 493ms/step - loss: 1.7333e-05 - accuracy: 1.0000\n",
            "Epoch 12/20\n",
            "97/97 [==============================] - 51s 530ms/step - loss: 1.4564e-05 - accuracy: 1.0000\n",
            "Epoch 13/20\n",
            "97/97 [==============================] - 48s 495ms/step - loss: 1.2407e-05 - accuracy: 1.0000\n",
            "Epoch 14/20\n",
            "97/97 [==============================] - 51s 524ms/step - loss: 1.0637e-05 - accuracy: 1.0000\n",
            "Epoch 15/20\n",
            "97/97 [==============================] - 48s 498ms/step - loss: 9.0902e-06 - accuracy: 1.0000\n",
            "Epoch 16/20\n",
            "97/97 [==============================] - 50s 517ms/step - loss: 7.9004e-06 - accuracy: 1.0000\n",
            "Epoch 17/20\n",
            "97/97 [==============================] - 50s 519ms/step - loss: 6.8852e-06 - accuracy: 1.0000\n",
            "Epoch 18/20\n",
            "97/97 [==============================] - 52s 535ms/step - loss: 6.1398e-06 - accuracy: 1.0000\n",
            "Epoch 19/20\n",
            "97/97 [==============================] - 49s 502ms/step - loss: 5.4464e-06 - accuracy: 1.0000\n",
            "Epoch 20/20\n",
            "97/97 [==============================] - 52s 534ms/step - loss: 4.9342e-06 - accuracy: 1.0000\n"
          ]
        },
        {
          "output_type": "execute_result",
          "data": {
            "text/plain": [
              "<keras.src.callbacks.History at 0x7986884baaa0>"
            ]
          },
          "metadata": {},
          "execution_count": 24
        }
      ],
      "source": [
        "model.fit(X_train,y_train,epochs=20,batch_size=20)"
      ]
    },
    {
      "cell_type": "markdown",
      "metadata": {
        "id": "wilHV8sbB8Vx"
      },
      "source": [
        "**CHECKING THE LOSS AND ACCURACY OF THE TEST DATA**"
      ]
    },
    {
      "cell_type": "code",
      "execution_count": null,
      "metadata": {
        "id": "O8G4uPzu2ekr",
        "colab": {
          "base_uri": "https://localhost:8080/"
        },
        "outputId": "e5c99865-981a-4577-a512-701a6f718c10"
      },
      "outputs": [
        {
          "output_type": "stream",
          "name": "stdout",
          "text": [
            "61/61 [==============================] - 14s 223ms/step - loss: 4.6407e-06 - accuracy: 1.0000\n",
            "LOSS : 4.640674433176173e-06\n",
            "Accuracy : 1.0\n"
          ]
        }
      ],
      "source": [
        "loss,accuracy=model.evaluate(X_test,y_test)\n",
        "print(\"LOSS :\",loss)\n",
        "print(\"Accuracy :\",accuracy)"
      ]
    },
    {
      "cell_type": "markdown",
      "metadata": {
        "id": "qYVPJrQWCG90"
      },
      "source": [
        "**READ THE IMAGE OF PERSON HAS PCOS**"
      ]
    },
    {
      "cell_type": "code",
      "execution_count": null,
      "metadata": {
        "id": "tXP3H1-t2hkj",
        "colab": {
          "base_uri": "https://localhost:8080/"
        },
        "outputId": "d896be74-2543-450a-8d39-78a4282b7eb9"
      },
      "outputs": [
        {
          "output_type": "stream",
          "name": "stdout",
          "text": [
            "[[[  1   1   1]\n",
            "  [  1   1   1]\n",
            "  [  1   1   1]\n",
            "  ...\n",
            "  [166 168 154]\n",
            "  [236 238 224]\n",
            "  [ 57  59  45]]\n",
            "\n",
            " [[  1   1   1]\n",
            "  [  1   1   1]\n",
            "  [  1   1   1]\n",
            "  ...\n",
            "  [192 194 180]\n",
            "  [ 92  94  80]\n",
            "  [  0   2   0]]\n",
            "\n",
            " [[  1   1   1]\n",
            "  [  1   1   1]\n",
            "  [  1   1   1]\n",
            "  ...\n",
            "  [ 25  27  14]\n",
            "  [  0   2   0]\n",
            "  [  3   5   0]]\n",
            "\n",
            " ...\n",
            "\n",
            " [[  1   1   1]\n",
            "  [  1   1   1]\n",
            "  [  1   1   1]\n",
            "  ...\n",
            "  [  1   1   1]\n",
            "  [  1   1   1]\n",
            "  [  1   1   1]]\n",
            "\n",
            " [[  1   1   1]\n",
            "  [  1   1   1]\n",
            "  [  1   1   1]\n",
            "  ...\n",
            "  [  1   1   1]\n",
            "  [  1   1   1]\n",
            "  [  1   1   1]]\n",
            "\n",
            " [[  1   1   1]\n",
            "  [  1   1   1]\n",
            "  [  1   1   1]\n",
            "  ...\n",
            "  [  1   1   1]\n",
            "  [  1   1   1]\n",
            "  [  1   1   1]]]\n"
          ]
        }
      ],
      "source": [
        "img=imread('/content/drive/MyDrive/PCOS/PCOD/train/infected/img10.jpg')\n",
        "print(img)"
      ]
    },
    {
      "cell_type": "markdown",
      "metadata": {
        "id": "Ppzl39X_CM0c"
      },
      "source": [
        "**RESIZE THE IMAGE**"
      ]
    },
    {
      "cell_type": "code",
      "execution_count": null,
      "metadata": {
        "id": "_MUaYR6y2j0V",
        "colab": {
          "base_uri": "https://localhost:8080/"
        },
        "outputId": "e4ef3630-0249-4cb6-ab6f-944c3cba61f4"
      },
      "outputs": [
        {
          "output_type": "execute_result",
          "data": {
            "text/plain": [
              "(150, 150, 1)"
            ]
          },
          "metadata": {},
          "execution_count": 29
        }
      ],
      "source": [
        "img=resize(img,(150,150,1))\n",
        "img.shape"
      ]
    },
    {
      "cell_type": "markdown",
      "metadata": {
        "id": "liFEq7EFCPeI"
      },
      "source": [
        "**RESHAPE THE IMAGE**"
      ]
    },
    {
      "cell_type": "code",
      "execution_count": null,
      "metadata": {
        "id": "vIULgUmX2nsT",
        "colab": {
          "base_uri": "https://localhost:8080/"
        },
        "outputId": "d5a497f4-3ca6-41f8-e246-66f045f7bf35"
      },
      "outputs": [
        {
          "output_type": "execute_result",
          "data": {
            "text/plain": [
              "(1, 150, 150, 1)"
            ]
          },
          "metadata": {},
          "execution_count": 30
        }
      ],
      "source": [
        "img=img.reshape(1,150,150,1)\n",
        "img.shape"
      ]
    },
    {
      "cell_type": "markdown",
      "metadata": {
        "id": "EhKYys7BCdGt"
      },
      "source": [
        "**PREDICTING THE OUTPUT OF THE IMAGE**"
      ]
    },
    {
      "cell_type": "code",
      "execution_count": null,
      "metadata": {
        "id": "ZbEoakuC2rGY",
        "colab": {
          "base_uri": "https://localhost:8080/"
        },
        "outputId": "148fa3ab-8ddd-476c-ff96-3cf8c6ed22bf"
      },
      "outputs": [
        {
          "output_type": "stream",
          "name": "stdout",
          "text": [
            "1/1 [==============================] - 0s 484ms/step\n"
          ]
        },
        {
          "output_type": "execute_result",
          "data": {
            "text/plain": [
              "array([[3.5725098e-10, 1.0000000e+00, 7.3916423e-17, 2.3616433e-19]],\n",
              "      dtype=float32)"
            ]
          },
          "metadata": {},
          "execution_count": 31
        }
      ],
      "source": [
        "pred=model.predict(img)\n",
        "pred"
      ]
    },
    {
      "cell_type": "markdown",
      "metadata": {
        "id": "4fOXYrrJChN8"
      },
      "source": [
        "**TAKING INDEX POSITION FOR PREDICTED IMAGE**"
      ]
    },
    {
      "cell_type": "code",
      "execution_count": null,
      "metadata": {
        "id": "3ssN2vO72va7",
        "colab": {
          "base_uri": "https://localhost:8080/"
        },
        "outputId": "ea0faa50-af09-4a33-94f2-289ac285502b"
      },
      "outputs": [
        {
          "output_type": "execute_result",
          "data": {
            "text/plain": [
              "array([1])"
            ]
          },
          "metadata": {},
          "execution_count": 32
        }
      ],
      "source": [
        "ind=pred.argmax(axis=1)\n",
        "ind"
      ]
    },
    {
      "cell_type": "markdown",
      "metadata": {
        "id": "ZaZji9oSCscK"
      },
      "source": [
        "**SHOWING PREDICTED IMAGE CATEGORY**"
      ]
    },
    {
      "cell_type": "code",
      "execution_count": null,
      "metadata": {
        "id": "yWn8Y3e92y3Q",
        "colab": {
          "base_uri": "https://localhost:8080/",
          "height": 35
        },
        "outputId": "da9eb19d-ff2c-4445-dffc-07df590b23b2"
      },
      "outputs": [
        {
          "output_type": "execute_result",
          "data": {
            "text/plain": [
              "'infected'"
            ],
            "application/vnd.google.colaboratory.intrinsic+json": {
              "type": "string"
            }
          },
          "metadata": {},
          "execution_count": 33
        }
      ],
      "source": [
        "Categories[ind.item()]"
      ]
    },
    {
      "cell_type": "markdown",
      "metadata": {
        "id": "WII9fpRECy-X"
      },
      "source": [
        "**READ THE IMAGE OF PERSON DOESNOT HAVE PCOS**"
      ]
    },
    {
      "cell_type": "code",
      "execution_count": null,
      "metadata": {
        "id": "S-KHnZ9S23n_",
        "colab": {
          "base_uri": "https://localhost:8080/"
        },
        "outputId": "e7dabea9-364c-45f4-ef74-cf72369cca91"
      },
      "outputs": [
        {
          "output_type": "stream",
          "name": "stdout",
          "text": [
            "[[[  4   5  10]\n",
            "  [144 145 150]\n",
            "  [175 176 181]\n",
            "  ...\n",
            "  [  6   7  11]\n",
            "  [  0   0   4]\n",
            "  [135 136 140]]\n",
            "\n",
            " [[  3   4   9]\n",
            "  [142 143 148]\n",
            "  [173 174 179]\n",
            "  ...\n",
            "  [  0   0   4]\n",
            "  [  9  10  14]\n",
            "  [101 102 106]]\n",
            "\n",
            " [[  2   3   8]\n",
            "  [140 141 146]\n",
            "  [169 170 175]\n",
            "  ...\n",
            "  [  0   0   4]\n",
            "  [ 10  11  15]\n",
            "  [ 21  22  26]]\n",
            "\n",
            " ...\n",
            "\n",
            " [[  0   0   0]\n",
            "  [  0   0   0]\n",
            "  [  0   0   0]\n",
            "  ...\n",
            "  [  0   0   0]\n",
            "  [  0   0   0]\n",
            "  [  0   0   0]]\n",
            "\n",
            " [[  0   0   0]\n",
            "  [  0   0   0]\n",
            "  [  0   0   0]\n",
            "  ...\n",
            "  [  0   0   0]\n",
            "  [  0   0   0]\n",
            "  [  0   0   0]]\n",
            "\n",
            " [[  0   0   0]\n",
            "  [  0   0   0]\n",
            "  [  0   0   0]\n",
            "  ...\n",
            "  [  0   0   0]\n",
            "  [  0   0   0]\n",
            "  [  0   0   0]]]\n"
          ]
        }
      ],
      "source": [
        "img1=imread('/content/drive/MyDrive/PCOS/PCOD/train/notinfected/img4.jpg')\n",
        "print(img1)"
      ]
    },
    {
      "cell_type": "code",
      "execution_count": null,
      "metadata": {
        "id": "bYoNxY_s289O",
        "colab": {
          "base_uri": "https://localhost:8080/"
        },
        "outputId": "7a2e86ce-6ebc-48f9-e0f6-8a92bad0c488"
      },
      "outputs": [
        {
          "output_type": "execute_result",
          "data": {
            "text/plain": [
              "(150, 150, 1)"
            ]
          },
          "metadata": {},
          "execution_count": 35
        }
      ],
      "source": [
        "img1=resize(img1,(150,150,1))\n",
        "img1.shape"
      ]
    },
    {
      "cell_type": "code",
      "execution_count": null,
      "metadata": {
        "id": "o9dNnci-2_cs",
        "colab": {
          "base_uri": "https://localhost:8080/"
        },
        "outputId": "8eb7b830-3361-43dd-c3d8-5f2f8d5ba50d"
      },
      "outputs": [
        {
          "output_type": "execute_result",
          "data": {
            "text/plain": [
              "(1, 150, 150, 1)"
            ]
          },
          "metadata": {},
          "execution_count": 36
        }
      ],
      "source": [
        "img1=img1.reshape(1,150,150,1)\n",
        "img1.shape"
      ]
    },
    {
      "cell_type": "code",
      "execution_count": null,
      "metadata": {
        "id": "1XMWLzZ33B_w",
        "colab": {
          "base_uri": "https://localhost:8080/"
        },
        "outputId": "61124f98-864b-4176-f505-225df0333cc8"
      },
      "outputs": [
        {
          "output_type": "stream",
          "name": "stdout",
          "text": [
            "1/1 [==============================] - 0s 31ms/step\n"
          ]
        },
        {
          "output_type": "execute_result",
          "data": {
            "text/plain": [
              "array([[1.0000000e+00, 1.8073969e-09, 1.5122932e-16, 1.8114542e-18]],\n",
              "      dtype=float32)"
            ]
          },
          "metadata": {},
          "execution_count": 37
        }
      ],
      "source": [
        "pred1=model.predict(img1)\n",
        "pred1"
      ]
    },
    {
      "cell_type": "code",
      "execution_count": null,
      "metadata": {
        "id": "VVnZ3ejb3Emk",
        "colab": {
          "base_uri": "https://localhost:8080/"
        },
        "outputId": "06f58c2d-ac76-45d3-de23-3f5cb46ff967"
      },
      "outputs": [
        {
          "output_type": "execute_result",
          "data": {
            "text/plain": [
              "array([0])"
            ]
          },
          "metadata": {},
          "execution_count": 38
        }
      ],
      "source": [
        "index1=pred1.argmax(axis=1)\n",
        "index1"
      ]
    },
    {
      "cell_type": "code",
      "execution_count": null,
      "metadata": {
        "id": "XusqqCgX3HV9",
        "colab": {
          "base_uri": "https://localhost:8080/",
          "height": 35
        },
        "outputId": "0dab8aec-5a2c-4ea1-8659-a7a14b955f75"
      },
      "outputs": [
        {
          "output_type": "execute_result",
          "data": {
            "text/plain": [
              "'notinfected'"
            ],
            "application/vnd.google.colaboratory.intrinsic+json": {
              "type": "string"
            }
          },
          "metadata": {},
          "execution_count": 39
        }
      ],
      "source": [
        "Categories[index1.item()]"
      ]
    },
    {
      "cell_type": "markdown",
      "metadata": {
        "id": "9dv1LDTFC6BZ"
      },
      "source": [
        "**SAVE THE MODEL**"
      ]
    },
    {
      "cell_type": "code",
      "execution_count": null,
      "metadata": {
        "id": "pyYsCbSl3JUh",
        "colab": {
          "base_uri": "https://localhost:8080/"
        },
        "outputId": "90511af5-940d-4245-f14e-1590983983de"
      },
      "outputs": [
        {
          "output_type": "stream",
          "name": "stderr",
          "text": [
            "/usr/local/lib/python3.10/dist-packages/keras/src/engine/training.py:3103: UserWarning: You are saving your model as an HDF5 file via `model.save()`. This file format is considered legacy. We recommend using instead the native Keras format, e.g. `model.save('my_model.keras')`.\n",
            "  saving_api.save_model(\n"
          ]
        }
      ],
      "source": [
        "model.save('PCOS.h5')"
      ]
    }
  ],
  "metadata": {
    "colab": {
      "provenance": []
    },
    "kernelspec": {
      "display_name": "Python 3",
      "name": "python3"
    },
    "language_info": {
      "name": "python"
    }
  },
  "nbformat": 4,
  "nbformat_minor": 0
}