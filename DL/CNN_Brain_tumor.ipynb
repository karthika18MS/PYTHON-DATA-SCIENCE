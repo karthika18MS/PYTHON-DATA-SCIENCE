{
  "nbformat": 4,
  "nbformat_minor": 0,
  "metadata": {
    "colab": {
      "provenance": []
    },
    "kernelspec": {
      "name": "python3",
      "display_name": "Python 3"
    },
    "language_info": {
      "name": "python"
    }
  },
  "cells": [
    {
      "cell_type": "code",
      "execution_count": null,
      "metadata": {
        "id": "wZwN50pcXaxp"
      },
      "outputs": [],
      "source": [
        "import pandas as pd\n",
        "from skimage.io import imread\n",
        "from skimage.transform import resize\n",
        "import os\n",
        "from keras.models import Sequential\n",
        "from keras.layers import Dense,Conv2D,MaxPool2D,Flatten\n"
      ]
    },
    {
      "cell_type": "code",
      "source": [
        "os.listdir('/content/drive/MyDrive/Brain_Tumor')\n"
      ],
      "metadata": {
        "colab": {
          "base_uri": "https://localhost:8080/"
        },
        "id": "J1Z74QOKf46i",
        "outputId": "631aa78a-1ef7-4ce9-9988-1c29dce10083"
      },
      "execution_count": null,
      "outputs": [
        {
          "output_type": "execute_result",
          "data": {
            "text/plain": [
              "['Testing', 'Training']"
            ]
          },
          "metadata": {},
          "execution_count": 2
        }
      ]
    },
    {
      "cell_type": "code",
      "source": [
        "os.listdir(\"/content/drive/MyDrive/Brain_Tumor/Testing\")"
      ],
      "metadata": {
        "colab": {
          "base_uri": "https://localhost:8080/"
        },
        "id": "k-FMkblpgCVt",
        "outputId": "3a60a6bf-c9de-40a6-bae3-fdf206cf9d44"
      },
      "execution_count": null,
      "outputs": [
        {
          "output_type": "execute_result",
          "data": {
            "text/plain": [
              "['meningioma', 'notumor', 'pituitary', 'glioma']"
            ]
          },
          "metadata": {},
          "execution_count": 3
        }
      ]
    },
    {
      "cell_type": "code",
      "source": [
        "os.listdir(\"/content/drive/MyDrive/Brain_Tumor/Training\")"
      ],
      "metadata": {
        "colab": {
          "base_uri": "https://localhost:8080/"
        },
        "id": "jeCQAK_MgH8j",
        "outputId": "975325c9-b6f8-4d40-8c73-9b4a0597574e"
      },
      "execution_count": null,
      "outputs": [
        {
          "output_type": "execute_result",
          "data": {
            "text/plain": [
              "['meningioma', 'notumor', 'glioma', 'pituitary']"
            ]
          },
          "metadata": {},
          "execution_count": 4
        }
      ]
    },
    {
      "cell_type": "code",
      "source": [
        "datadir='/content/drive/MyDrive/Brain_Tumor/Training'"
      ],
      "metadata": {
        "id": "lKih40JYgWmW"
      },
      "execution_count": null,
      "outputs": []
    },
    {
      "cell_type": "code",
      "source": [
        "X_train=[]\n",
        "y_train=[]\n",
        "Categories=['glioma', 'pituitary', 'notumor', 'meningioma']\n",
        "for i in Categories:\n",
        "  print(\"Loading............\",i)\n",
        "  path=os.path.join(datadir,i)\n",
        "  #print(path)\n",
        "  images=os.listdir(path)\n",
        "  #print(images)\n",
        "  for img in images:\n",
        "    img_path=os.path.join(path,img)\n",
        "    #print(img_path)\n",
        "    img_arr=imread(img_path)\n",
        "    img_resized=resize(img_arr,(150,150,1))\n",
        "    X_train.append(img_resized)\n",
        "    y_train.append(Categories.index(i))\n",
        "  print(\"Completed.......\",i)"
      ],
      "metadata": {
        "colab": {
          "base_uri": "https://localhost:8080/"
        },
        "id": "iu0VQO-Vgd5Q",
        "outputId": "1c113c2a-9dd4-410f-cb0f-9137252a1a9e"
      },
      "execution_count": null,
      "outputs": [
        {
          "output_type": "stream",
          "name": "stdout",
          "text": [
            "Loading............ glioma\n",
            "Completed....... glioma\n",
            "Loading............ pituitary\n",
            "Completed....... pituitary\n",
            "Loading............ notumor\n",
            "Completed....... notumor\n",
            "Loading............ meningioma\n",
            "Completed....... meningioma\n"
          ]
        }
      ]
    },
    {
      "cell_type": "code",
      "source": [
        "img_arr.shape"
      ],
      "metadata": {
        "colab": {
          "base_uri": "https://localhost:8080/"
        },
        "id": "gPO59SyKm45i",
        "outputId": "32500603-1e24-48be-e319-efa4cfb700e4"
      },
      "execution_count": null,
      "outputs": [
        {
          "output_type": "execute_result",
          "data": {
            "text/plain": [
              "(512, 512, 3)"
            ]
          },
          "metadata": {},
          "execution_count": 7
        }
      ]
    },
    {
      "cell_type": "code",
      "source": [
        "print(img_arr)"
      ],
      "metadata": {
        "colab": {
          "base_uri": "https://localhost:8080/"
        },
        "id": "v5z5Y3z4nFje",
        "outputId": "5cc2cd77-f452-4ccc-ff46-46b7f3bf623a"
      },
      "execution_count": null,
      "outputs": [
        {
          "output_type": "stream",
          "name": "stdout",
          "text": [
            "[[[0 0 0]\n",
            "  [0 0 0]\n",
            "  [0 0 0]\n",
            "  ...\n",
            "  [0 0 0]\n",
            "  [0 0 0]\n",
            "  [0 0 0]]\n",
            "\n",
            " [[0 0 0]\n",
            "  [0 0 0]\n",
            "  [0 0 0]\n",
            "  ...\n",
            "  [0 0 0]\n",
            "  [0 0 0]\n",
            "  [0 0 0]]\n",
            "\n",
            " [[0 0 0]\n",
            "  [0 0 0]\n",
            "  [0 0 0]\n",
            "  ...\n",
            "  [0 0 0]\n",
            "  [0 0 0]\n",
            "  [0 0 0]]\n",
            "\n",
            " ...\n",
            "\n",
            " [[0 0 0]\n",
            "  [0 0 0]\n",
            "  [0 0 0]\n",
            "  ...\n",
            "  [0 0 0]\n",
            "  [0 0 0]\n",
            "  [0 0 0]]\n",
            "\n",
            " [[0 0 0]\n",
            "  [0 0 0]\n",
            "  [0 0 0]\n",
            "  ...\n",
            "  [0 0 0]\n",
            "  [0 0 0]\n",
            "  [0 0 0]]\n",
            "\n",
            " [[0 0 0]\n",
            "  [0 0 0]\n",
            "  [0 0 0]\n",
            "  ...\n",
            "  [0 0 0]\n",
            "  [0 0 0]\n",
            "  [0 0 0]]]\n"
          ]
        }
      ]
    },
    {
      "cell_type": "code",
      "source": [
        "img_resized.shape"
      ],
      "metadata": {
        "colab": {
          "base_uri": "https://localhost:8080/"
        },
        "id": "rAavvfS9m8Bt",
        "outputId": "f7085580-4d60-4c56-8f1d-8663a53b044c"
      },
      "execution_count": null,
      "outputs": [
        {
          "output_type": "execute_result",
          "data": {
            "text/plain": [
              "(150, 150, 1)"
            ]
          },
          "metadata": {},
          "execution_count": 9
        }
      ]
    },
    {
      "cell_type": "code",
      "source": [
        "img_resized"
      ],
      "metadata": {
        "colab": {
          "base_uri": "https://localhost:8080/"
        },
        "id": "RzTqsUsrnLbw",
        "outputId": "e9d88ce7-8e2b-4aac-e8f2-7d4614480dd6"
      },
      "execution_count": null,
      "outputs": [
        {
          "output_type": "execute_result",
          "data": {
            "text/plain": [
              "array([[[0.00000000e+00],\n",
              "        [1.91285228e-07],\n",
              "        [1.19860179e-05],\n",
              "        ...,\n",
              "        [1.01188030e-04],\n",
              "        [1.61486289e-06],\n",
              "        [0.00000000e+00]],\n",
              "\n",
              "       [[0.00000000e+00],\n",
              "        [2.52016439e-05],\n",
              "        [1.59572598e-03],\n",
              "        ...,\n",
              "        [3.55164177e-03],\n",
              "        [5.64735613e-05],\n",
              "        [0.00000000e+00]],\n",
              "\n",
              "       [[0.00000000e+00],\n",
              "        [5.37677425e-05],\n",
              "        [4.29761809e-03],\n",
              "        ...,\n",
              "        [4.46187463e-03],\n",
              "        [5.82240228e-05],\n",
              "        [0.00000000e+00]],\n",
              "\n",
              "       ...,\n",
              "\n",
              "       [[0.00000000e+00],\n",
              "        [9.69490914e-05],\n",
              "        [5.72365085e-03],\n",
              "        ...,\n",
              "        [5.56095826e-03],\n",
              "        [8.42950413e-05],\n",
              "        [0.00000000e+00]],\n",
              "\n",
              "       [[0.00000000e+00],\n",
              "        [1.73721173e-06],\n",
              "        [9.77025824e-05],\n",
              "        ...,\n",
              "        [3.56918208e-03],\n",
              "        [5.68896295e-05],\n",
              "        [0.00000000e+00]],\n",
              "\n",
              "       [[0.00000000e+00],\n",
              "        [0.00000000e+00],\n",
              "        [0.00000000e+00],\n",
              "        ...,\n",
              "        [1.01188030e-04],\n",
              "        [1.61486289e-06],\n",
              "        [0.00000000e+00]]])"
            ]
          },
          "metadata": {},
          "execution_count": 10
        }
      ]
    },
    {
      "cell_type": "code",
      "source": [
        "X_test=[]\n",
        "y_test=[]\n",
        "Categories=['glioma', 'pituitary', 'notumor', 'meningioma']\n",
        "datadir='/content/drive/MyDrive/Brain_Tumor/Testing'\n",
        "for i in Categories:\n",
        "  print(\"Loading............\",i)\n",
        "  path=os.path.join(datadir,i)\n",
        "  #print(path)\n",
        "  images=os.listdir(path)\n",
        "  #print(images)\n",
        "  for img in images:\n",
        "    img_path=os.path.join(path,img)\n",
        "    #print(img_path)\n",
        "    img_arr=imread(img_path)\n",
        "    img_resized=resize(img_arr,(150,150,1))\n",
        "    X_test.append(img_resized)\n",
        "    y_test.append(Categories.index(i))\n",
        "  print(\"Completed.......\",i)"
      ],
      "metadata": {
        "colab": {
          "base_uri": "https://localhost:8080/"
        },
        "id": "lJSz6-DLoLHF",
        "outputId": "8c30e286-5555-4fbd-835f-e1fd84b056f6"
      },
      "execution_count": null,
      "outputs": [
        {
          "output_type": "stream",
          "name": "stdout",
          "text": [
            "Loading............ glioma\n",
            "Completed....... glioma\n",
            "Loading............ pituitary\n",
            "Completed....... pituitary\n",
            "Loading............ notumor\n",
            "Completed....... notumor\n",
            "Loading............ meningioma\n",
            "Completed....... meningioma\n"
          ]
        }
      ]
    },
    {
      "cell_type": "code",
      "source": [
        "import numpy as np\n",
        "X_train=np.array(X_train)\n",
        "y_train=np.array(y_train)\n",
        "X_test=np.array(X_test)\n",
        "y_test=np.array(y_test)"
      ],
      "metadata": {
        "id": "hFLKLmjUq4yk"
      },
      "execution_count": null,
      "outputs": []
    },
    {
      "cell_type": "code",
      "source": [
        "X_train.shape"
      ],
      "metadata": {
        "colab": {
          "base_uri": "https://localhost:8080/"
        },
        "id": "9VQfP2K_rOYC",
        "outputId": "e36fcc96-b4e1-4205-fa46-26e8320a399d"
      },
      "execution_count": null,
      "outputs": [
        {
          "output_type": "execute_result",
          "data": {
            "text/plain": [
              "(5529, 150, 150, 1)"
            ]
          },
          "metadata": {},
          "execution_count": 13
        }
      ]
    },
    {
      "cell_type": "code",
      "source": [
        "X_test.shape"
      ],
      "metadata": {
        "id": "Qgtgx5vkrTEI",
        "outputId": "b942de82-bdb1-4e4b-a4ac-d14af40845ae",
        "colab": {
          "base_uri": "https://localhost:8080/"
        }
      },
      "execution_count": null,
      "outputs": [
        {
          "output_type": "execute_result",
          "data": {
            "text/plain": [
              "(1311, 150, 150, 1)"
            ]
          },
          "metadata": {},
          "execution_count": 14
        }
      ]
    },
    {
      "cell_type": "code",
      "source": [
        "model=Sequential()\n",
        "model.add(Conv2D(32,(3,3),input_shape=(150,150,1),activation='relu'))\n",
        "model.add(MaxPool2D(2,2))\n",
        "model.add(Conv2D(32,(3,3),activation='relu'))\n",
        "model.add(MaxPool2D(2,2))\n",
        "model.add(Flatten())\n",
        "model.add(Dense(100,activation='relu'))\n",
        "model.add(Dense(4,activation='softmax'))"
      ],
      "metadata": {
        "id": "JZKHvUECi1AG"
      },
      "execution_count": null,
      "outputs": []
    },
    {
      "cell_type": "code",
      "source": [
        "model.compile(optimizer='adam',loss='sparse_categorical_crossentropy',metrics=['accuracy'])"
      ],
      "metadata": {
        "id": "9uZhLxcpk6Wj"
      },
      "execution_count": null,
      "outputs": []
    },
    {
      "cell_type": "code",
      "source": [
        "model.fit(X_train,y_train,epochs=20,batch_size=20)"
      ],
      "metadata": {
        "colab": {
          "base_uri": "https://localhost:8080/"
        },
        "id": "_LT-ZPY6l6SQ",
        "outputId": "3368cef5-f1e5-4137-ba10-4621d4c1b5fd"
      },
      "execution_count": null,
      "outputs": [
        {
          "output_type": "stream",
          "name": "stdout",
          "text": [
            "Epoch 1/20\n",
            "277/277 [==============================] - 72s 258ms/step - loss: 1.1462 - accuracy: 0.4607\n",
            "Epoch 2/20\n",
            "277/277 [==============================] - 67s 242ms/step - loss: 0.7435 - accuracy: 0.7343\n",
            "Epoch 3/20\n",
            "277/277 [==============================] - 69s 248ms/step - loss: 0.6463 - accuracy: 0.7661\n",
            "Epoch 4/20\n",
            "277/277 [==============================] - 67s 242ms/step - loss: 0.5505 - accuracy: 0.8034\n",
            "Epoch 5/20\n",
            "277/277 [==============================] - 68s 247ms/step - loss: 0.4623 - accuracy: 0.8519\n",
            "Epoch 6/20\n",
            "277/277 [==============================] - 67s 244ms/step - loss: 0.3719 - accuracy: 0.8870\n",
            "Epoch 7/20\n",
            "277/277 [==============================] - 67s 242ms/step - loss: 0.3171 - accuracy: 0.9011\n",
            "Epoch 8/20\n",
            "277/277 [==============================] - 69s 248ms/step - loss: 0.2535 - accuracy: 0.9240\n",
            "Epoch 9/20\n",
            "277/277 [==============================] - 71s 258ms/step - loss: 0.2237 - accuracy: 0.9322\n",
            "Epoch 10/20\n",
            "277/277 [==============================] - 68s 246ms/step - loss: 0.1881 - accuracy: 0.9457\n",
            "Epoch 11/20\n",
            "277/277 [==============================] - 69s 250ms/step - loss: 0.1678 - accuracy: 0.9501\n",
            "Epoch 12/20\n",
            "277/277 [==============================] - 67s 242ms/step - loss: 0.1504 - accuracy: 0.9582\n",
            "Epoch 13/20\n",
            "277/277 [==============================] - 67s 244ms/step - loss: 0.1325 - accuracy: 0.9631\n",
            "Epoch 14/20\n",
            "277/277 [==============================] - 67s 241ms/step - loss: 0.1252 - accuracy: 0.9653\n",
            "Epoch 15/20\n",
            "277/277 [==============================] - 67s 242ms/step - loss: 0.1199 - accuracy: 0.9664\n",
            "Epoch 16/20\n",
            "277/277 [==============================] - 67s 242ms/step - loss: 0.0995 - accuracy: 0.9729\n",
            "Epoch 17/20\n",
            "277/277 [==============================] - 66s 240ms/step - loss: 0.0981 - accuracy: 0.9721\n",
            "Epoch 18/20\n",
            "277/277 [==============================] - 86s 311ms/step - loss: 0.0857 - accuracy: 0.9770\n",
            "Epoch 19/20\n",
            "277/277 [==============================] - 69s 249ms/step - loss: 0.0822 - accuracy: 0.9776\n",
            "Epoch 20/20\n",
            "277/277 [==============================] - 77s 277ms/step - loss: 0.0856 - accuracy: 0.9754\n"
          ]
        },
        {
          "output_type": "execute_result",
          "data": {
            "text/plain": [
              "<keras.src.callbacks.History at 0x7d5324f5c880>"
            ]
          },
          "metadata": {},
          "execution_count": 19
        }
      ]
    },
    {
      "cell_type": "code",
      "source": [
        "loss,accuracy=model.evaluate(X_test,y_test)\n",
        "print(\"LOSS :\",loss)\n",
        "print(\"Accuracy :\",accuracy)"
      ],
      "metadata": {
        "colab": {
          "base_uri": "https://localhost:8080/"
        },
        "id": "0lioIyIZqktx",
        "outputId": "35b8ba12-2056-4287-cab3-eed91af885b0"
      },
      "execution_count": null,
      "outputs": [
        {
          "output_type": "stream",
          "name": "stdout",
          "text": [
            "41/41 [==============================] - 4s 104ms/step - loss: 0.3260 - accuracy: 0.8909\n",
            "LOSS : 0.32604727149009705\n",
            "Accuracy : 0.8909229636192322\n"
          ]
        }
      ]
    },
    {
      "cell_type": "code",
      "source": [
        "img=imread('/content/drive/MyDrive/Brain_Tumor/Testing/notumor/Te-noTr_0001.jpg')\n",
        "img"
      ],
      "metadata": {
        "colab": {
          "base_uri": "https://localhost:8080/",
          "height": 300
        },
        "id": "iFnFzojQrF6i",
        "outputId": "9a0e490f-0d3c-43da-e1e1-69c3eccbdbf9"
      },
      "execution_count": null,
      "outputs": [
        {
          "output_type": "execute_result",
          "data": {
            "text/plain": [
              "array([[[13, 13, 13],\n",
              "        [15, 15, 15],\n",
              "        [16, 16, 16],\n",
              "        ...,\n",
              "        [13, 13, 13],\n",
              "        [13, 13, 13],\n",
              "        [13, 13, 13]],\n",
              "\n",
              "       [[13, 13, 13],\n",
              "        [15, 15, 15],\n",
              "        [16, 16, 16],\n",
              "        ...,\n",
              "        [14, 14, 14],\n",
              "        [14, 14, 14],\n",
              "        [14, 14, 14]],\n",
              "\n",
              "       [[13, 13, 13],\n",
              "        [15, 15, 15],\n",
              "        [16, 16, 16],\n",
              "        ...,\n",
              "        [15, 15, 15],\n",
              "        [15, 15, 15],\n",
              "        [15, 15, 15]],\n",
              "\n",
              "       ...,\n",
              "\n",
              "       [[14, 14, 14],\n",
              "        [14, 14, 14],\n",
              "        [15, 15, 15],\n",
              "        ...,\n",
              "        [14, 14, 14],\n",
              "        [14, 14, 14],\n",
              "        [14, 14, 14]],\n",
              "\n",
              "       [[15, 15, 15],\n",
              "        [14, 14, 14],\n",
              "        [14, 14, 14],\n",
              "        ...,\n",
              "        [14, 14, 14],\n",
              "        [14, 14, 14],\n",
              "        [14, 14, 14]],\n",
              "\n",
              "       [[15, 15, 15],\n",
              "        [14, 14, 14],\n",
              "        [13, 13, 13],\n",
              "        ...,\n",
              "        [14, 14, 14],\n",
              "        [14, 14, 14],\n",
              "        [14, 14, 14]]], dtype=uint8)"
            ],
            "text/html": [
              "<style>\n",
              "      .ndarray_repr .ndarray_raw_data {\n",
              "        display: none;\n",
              "      }\n",
              "      .ndarray_repr.show_array .ndarray_raw_data {\n",
              "        display: block;\n",
              "      }\n",
              "      .ndarray_repr.show_array .ndarray_image_preview {\n",
              "        display: none;\n",
              "      }\n",
              "      </style>\n",
              "      <div id=\"id-b20e6ac3-5ba0-4f3d-ac9d-ba48459a2d7d\" class=\"ndarray_repr\"><pre>ndarray (260, 236, 3) <button style=\"padding: 0 2px;\">show data</button></pre><img src=\"data:image/png;base64,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\" class=\"ndarray_image_preview\" /><pre class=\"ndarray_raw_data\">array([[[13, 13, 13],\n",
              "        [15, 15, 15],\n",
              "        [16, 16, 16],\n",
              "        ...,\n",
              "        [13, 13, 13],\n",
              "        [13, 13, 13],\n",
              "        [13, 13, 13]],\n",
              "\n",
              "       [[13, 13, 13],\n",
              "        [15, 15, 15],\n",
              "        [16, 16, 16],\n",
              "        ...,\n",
              "        [14, 14, 14],\n",
              "        [14, 14, 14],\n",
              "        [14, 14, 14]],\n",
              "\n",
              "       [[13, 13, 13],\n",
              "        [15, 15, 15],\n",
              "        [16, 16, 16],\n",
              "        ...,\n",
              "        [15, 15, 15],\n",
              "        [15, 15, 15],\n",
              "        [15, 15, 15]],\n",
              "\n",
              "       ...,\n",
              "\n",
              "       [[14, 14, 14],\n",
              "        [14, 14, 14],\n",
              "        [15, 15, 15],\n",
              "        ...,\n",
              "        [14, 14, 14],\n",
              "        [14, 14, 14],\n",
              "        [14, 14, 14]],\n",
              "\n",
              "       [[15, 15, 15],\n",
              "        [14, 14, 14],\n",
              "        [14, 14, 14],\n",
              "        ...,\n",
              "        [14, 14, 14],\n",
              "        [14, 14, 14],\n",
              "        [14, 14, 14]],\n",
              "\n",
              "       [[15, 15, 15],\n",
              "        [14, 14, 14],\n",
              "        [13, 13, 13],\n",
              "        ...,\n",
              "        [14, 14, 14],\n",
              "        [14, 14, 14],\n",
              "        [14, 14, 14]]], dtype=uint8)</pre></div><script>\n",
              "      (() => {\n",
              "      const titles = ['show data', 'hide data'];\n",
              "      let index = 0\n",
              "      document.querySelector('#id-b20e6ac3-5ba0-4f3d-ac9d-ba48459a2d7d button').onclick = (e) => {\n",
              "        document.querySelector('#id-b20e6ac3-5ba0-4f3d-ac9d-ba48459a2d7d').classList.toggle('show_array');\n",
              "        index = (++index) % 2;\n",
              "        document.querySelector('#id-b20e6ac3-5ba0-4f3d-ac9d-ba48459a2d7d button').textContent = titles[index];\n",
              "        e.preventDefault();\n",
              "        e.stopPropagation();\n",
              "      }\n",
              "      })();\n",
              "    </script>"
            ]
          },
          "metadata": {},
          "execution_count": 21
        }
      ]
    },
    {
      "cell_type": "code",
      "source": [
        "img=resize(img,(150,150,1))\n",
        "img.shape"
      ],
      "metadata": {
        "colab": {
          "base_uri": "https://localhost:8080/"
        },
        "id": "JLE3Yjj0rOXB",
        "outputId": "bb90b2f8-78b0-401b-d869-ffdaae3963d8"
      },
      "execution_count": null,
      "outputs": [
        {
          "output_type": "execute_result",
          "data": {
            "text/plain": [
              "(150, 150, 1)"
            ]
          },
          "metadata": {},
          "execution_count": 23
        }
      ]
    },
    {
      "cell_type": "code",
      "source": [
        "img=img.reshape(1,150,150,1)\n",
        "img.shape"
      ],
      "metadata": {
        "colab": {
          "base_uri": "https://localhost:8080/"
        },
        "id": "rmujTkUzrsQQ",
        "outputId": "85169f97-bfa5-4e95-9a0a-2510e76dd5ce"
      },
      "execution_count": null,
      "outputs": [
        {
          "output_type": "execute_result",
          "data": {
            "text/plain": [
              "(1, 150, 150, 1)"
            ]
          },
          "metadata": {},
          "execution_count": 24
        }
      ]
    },
    {
      "cell_type": "code",
      "source": [
        "pred=model.predict(img)\n",
        "pred"
      ],
      "metadata": {
        "colab": {
          "base_uri": "https://localhost:8080/"
        },
        "id": "GHNntQ0Pr6wh",
        "outputId": "dd99b209-385f-4bf6-bd5b-a001c890458c"
      },
      "execution_count": null,
      "outputs": [
        {
          "output_type": "stream",
          "name": "stdout",
          "text": [
            "1/1 [==============================] - 0s 73ms/step\n"
          ]
        },
        {
          "output_type": "execute_result",
          "data": {
            "text/plain": [
              "array([[8.2218819e-20, 1.1989832e-16, 9.9649066e-01, 3.5093082e-03]],\n",
              "      dtype=float32)"
            ]
          },
          "metadata": {},
          "execution_count": 25
        }
      ]
    },
    {
      "cell_type": "code",
      "source": [
        "ind=pred.argmax(axis=1)\n",
        "ind"
      ],
      "metadata": {
        "colab": {
          "base_uri": "https://localhost:8080/"
        },
        "id": "eIx088BxsCeL",
        "outputId": "51efbf6d-1de5-481d-800f-b4e5d66214b2"
      },
      "execution_count": null,
      "outputs": [
        {
          "output_type": "execute_result",
          "data": {
            "text/plain": [
              "array([2])"
            ]
          },
          "metadata": {},
          "execution_count": 26
        }
      ]
    },
    {
      "cell_type": "code",
      "source": [
        "Categories[ind.item()]"
      ],
      "metadata": {
        "colab": {
          "base_uri": "https://localhost:8080/",
          "height": 35
        },
        "id": "8GfHCB6ksIAl",
        "outputId": "d145c213-0845-47b4-aa9c-21d1b93a6589"
      },
      "execution_count": null,
      "outputs": [
        {
          "output_type": "execute_result",
          "data": {
            "text/plain": [
              "'notumor'"
            ],
            "application/vnd.google.colaboratory.intrinsic+json": {
              "type": "string"
            }
          },
          "metadata": {},
          "execution_count": 27
        }
      ]
    }
  ]
}