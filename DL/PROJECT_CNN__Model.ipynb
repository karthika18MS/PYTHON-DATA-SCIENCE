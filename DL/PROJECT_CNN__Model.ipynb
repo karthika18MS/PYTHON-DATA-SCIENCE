{
  "nbformat": 4,
  "nbformat_minor": 0,
  "metadata": {
    "colab": {
      "provenance": []
    },
    "kernelspec": {
      "name": "python3",
      "display_name": "Python 3"
    },
    "language_info": {
      "name": "python"
    }
  },
  "cells": [
    {
      "cell_type": "markdown",
      "source": [
        "**PROJECT : SATELLITE IMAGE CLASSIFICATION**\n",
        "\n",
        "Satellite image Classification Dataset-RSI-CB256 , This dataset has 4 different classes mixed from Sensors and google map snapshot\n",
        "\n"
      ],
      "metadata": {
        "id": "P-hjFy8ONOY3"
      }
    },
    {
      "cell_type": "code",
      "source": [
        "import pandas as pd\n",
        "from skimage.io import imread\n",
        "from skimage.transform import resize\n",
        "import os\n",
        "from keras.models import Sequential\n",
        "from keras.layers import Dense,Conv2D,MaxPool2D,Flatten\n",
        "import matplotlib.pyplot as plt\n",
        "import seaborn as sns"
      ],
      "metadata": {
        "id": "z1xt8O9stWdi"
      },
      "execution_count": null,
      "outputs": []
    },
    {
      "cell_type": "code",
      "source": [
        "os.listdir('/content/drive/MyDrive/CNN/Train_S')"
      ],
      "metadata": {
        "colab": {
          "base_uri": "https://localhost:8080/"
        },
        "id": "yyLLrqMwuYpr",
        "outputId": "7c22997d-a7d8-42a9-fea8-3b49d3f01762"
      },
      "execution_count": null,
      "outputs": [
        {
          "output_type": "execute_result",
          "data": {
            "text/plain": [
              "['cloudy', 'green_area', 'water', 'desert']"
            ]
          },
          "metadata": {},
          "execution_count": 31
        }
      ]
    },
    {
      "cell_type": "code",
      "source": [
        "datadir='/content/drive/MyDrive/CNN/Train_S'"
      ],
      "metadata": {
        "id": "1T4ZsmIgvDun"
      },
      "execution_count": null,
      "outputs": []
    },
    {
      "cell_type": "code",
      "source": [
        "X_train=[]\n",
        "y_train=[]\n",
        "Categories=['cloudy', 'green_area', 'water', 'desert']\n",
        "for i in Categories:\n",
        "  print(\"Loading............\",i)\n",
        "  path=os.path.join(datadir,i)\n",
        "  #print(path)\n",
        "  images=os.listdir(path)\n",
        "  #print(images)\n",
        "  for img in images:\n",
        "    img_path=os.path.join(path,img)\n",
        "    #print(img_path)\n",
        "    img_arr=imread(img_path)\n",
        "    img_resized=resize(img_arr,(150,150,1))\n",
        "    X_train.append(img_resized)\n",
        "    y_train.append(Categories.index(i))\n",
        "  print(\"Completed.......\",i)"
      ],
      "metadata": {
        "colab": {
          "base_uri": "https://localhost:8080/"
        },
        "id": "AdbdF4Qfupjm",
        "outputId": "2f00e901-4939-48c7-85cf-9b2933e97b28"
      },
      "execution_count": null,
      "outputs": [
        {
          "output_type": "stream",
          "name": "stdout",
          "text": [
            "Loading............ cloudy\n",
            "Completed....... cloudy\n",
            "Loading............ green_area\n",
            "Completed....... green_area\n",
            "Loading............ water\n",
            "Completed....... water\n",
            "Loading............ desert\n",
            "Completed....... desert\n"
          ]
        }
      ]
    },
    {
      "cell_type": "code",
      "source": [
        "img_arr.shape"
      ],
      "metadata": {
        "colab": {
          "base_uri": "https://localhost:8080/"
        },
        "id": "R0caqRnovsWU",
        "outputId": "1bfd3c7c-2b3c-4119-e295-383b954f2d10"
      },
      "execution_count": null,
      "outputs": [
        {
          "output_type": "execute_result",
          "data": {
            "text/plain": [
              "(256, 256, 3)"
            ]
          },
          "metadata": {},
          "execution_count": 34
        }
      ]
    },
    {
      "cell_type": "code",
      "source": [
        "print(img_arr)"
      ],
      "metadata": {
        "colab": {
          "base_uri": "https://localhost:8080/"
        },
        "id": "0vew-uaOvs8S",
        "outputId": "d54e430a-24ab-45cb-9756-02d573446e66"
      },
      "execution_count": null,
      "outputs": [
        {
          "output_type": "stream",
          "name": "stdout",
          "text": [
            "[[[205 161 100]\n",
            "  [205 161 100]\n",
            "  [205 161 100]\n",
            "  ...\n",
            "  [200 157 102]\n",
            "  [201 158 103]\n",
            "  [206 163 108]]\n",
            "\n",
            " [[207 163 102]\n",
            "  [207 163 102]\n",
            "  [208 164 103]\n",
            "  ...\n",
            "  [199 156 101]\n",
            "  [201 158 103]\n",
            "  [205 162 107]]\n",
            "\n",
            " [[210 166 105]\n",
            "  [210 166 105]\n",
            "  [210 166 105]\n",
            "  ...\n",
            "  [200 157 102]\n",
            "  [201 158 103]\n",
            "  [205 162 107]]\n",
            "\n",
            " ...\n",
            "\n",
            " [[219 175 114]\n",
            "  [218 174 113]\n",
            "  [217 173 112]\n",
            "  ...\n",
            "  [203 162 106]\n",
            "  [203 162 106]\n",
            "  [203 162 106]]\n",
            "\n",
            " [[219 175 114]\n",
            "  [218 174 113]\n",
            "  [217 173 112]\n",
            "  ...\n",
            "  [204 163 107]\n",
            "  [203 162 106]\n",
            "  [203 162 106]]\n",
            "\n",
            " [[218 174 113]\n",
            "  [217 173 112]\n",
            "  [216 172 111]\n",
            "  ...\n",
            "  [205 164 108]\n",
            "  [204 163 107]\n",
            "  [203 162 106]]]\n"
          ]
        }
      ]
    },
    {
      "cell_type": "code",
      "source": [
        "img_resized.shape"
      ],
      "metadata": {
        "colab": {
          "base_uri": "https://localhost:8080/"
        },
        "id": "9JphBYG5vzZq",
        "outputId": "f570329e-a832-45ce-cb44-952bfd13daf2"
      },
      "execution_count": null,
      "outputs": [
        {
          "output_type": "execute_result",
          "data": {
            "text/plain": [
              "(150, 150, 1)"
            ]
          },
          "metadata": {},
          "execution_count": 36
        }
      ]
    },
    {
      "cell_type": "code",
      "source": [
        "img_resized"
      ],
      "metadata": {
        "colab": {
          "base_uri": "https://localhost:8080/"
        },
        "id": "vZyN4r8fv5qk",
        "outputId": "bd5499ce-dbdf-4604-ca87-ec8598788904"
      },
      "execution_count": null,
      "outputs": [
        {
          "output_type": "execute_result",
          "data": {
            "text/plain": [
              "array([[[0.61792849],\n",
              "        [0.61951048],\n",
              "        [0.62185019],\n",
              "        ...,\n",
              "        [0.61912607],\n",
              "        [0.60364594],\n",
              "        [0.61942084]],\n",
              "\n",
              "       [[0.63465724],\n",
              "        [0.63527484],\n",
              "        [0.63856683],\n",
              "        ...,\n",
              "        [0.61193854],\n",
              "        [0.60528727],\n",
              "        [0.61798654]],\n",
              "\n",
              "       [[0.6384648 ],\n",
              "        [0.63960459],\n",
              "        [0.64242095],\n",
              "        ...,\n",
              "        [0.61726117],\n",
              "        [0.62116974],\n",
              "        [0.62147103]],\n",
              "\n",
              "       ...,\n",
              "\n",
              "       [[0.65272271],\n",
              "        [0.65231036],\n",
              "        [0.65644647],\n",
              "        ...,\n",
              "        [0.61539619],\n",
              "        [0.61672202],\n",
              "        [0.6213655 ]],\n",
              "\n",
              "       [[0.66777183],\n",
              "        [0.66146099],\n",
              "        [0.65501562],\n",
              "        ...,\n",
              "        [0.61678285],\n",
              "        [0.62028139],\n",
              "        [0.62098227]],\n",
              "\n",
              "       [[0.66590169],\n",
              "        [0.65930067],\n",
              "        [0.65450992],\n",
              "        ...,\n",
              "        [0.62957188],\n",
              "        [0.62728839],\n",
              "        [0.621738  ]]])"
            ]
          },
          "metadata": {},
          "execution_count": 37
        }
      ]
    },
    {
      "cell_type": "code",
      "source": [
        "X_test=[]\n",
        "y_test=[]\n",
        "Categories=['cloudy', 'green_area', 'water', 'desert']\n",
        "datadir='/content/drive/MyDrive/CNN/Test_S'\n",
        "for i in Categories:\n",
        "  print(\"Loading............\",i)\n",
        "  path=os.path.join(datadir,i)\n",
        "  #print(path)\n",
        "  images=os.listdir(path)\n",
        "  #print(images)\n",
        "  for img in images:\n",
        "    img_path=os.path.join(path,img)\n",
        "    #print(img_path)\n",
        "    img_arr=imread(img_path)\n",
        "    img_resized=resize(img_arr,(150,150,1))\n",
        "    X_test.append(img_resized)\n",
        "    y_test.append(Categories.index(i))\n",
        "  print(\"Completed.......\",i)"
      ],
      "metadata": {
        "colab": {
          "base_uri": "https://localhost:8080/"
        },
        "id": "U5XagnR8wGkM",
        "outputId": "93a650c2-fe43-4be4-c30c-e4d5b6274e5c"
      },
      "execution_count": null,
      "outputs": [
        {
          "output_type": "stream",
          "name": "stdout",
          "text": [
            "Loading............ cloudy\n",
            "Completed....... cloudy\n",
            "Loading............ green_area\n",
            "Completed....... green_area\n",
            "Loading............ water\n",
            "Completed....... water\n",
            "Loading............ desert\n",
            "Completed....... desert\n"
          ]
        }
      ]
    },
    {
      "cell_type": "code",
      "source": [
        "import numpy as np\n",
        "X_train=np.array(X_train)\n",
        "y_train=np.array(y_train)\n",
        "X_test=np.array(X_test)\n",
        "y_test=np.array(y_test)"
      ],
      "metadata": {
        "id": "lD13fIj0vQvr"
      },
      "execution_count": null,
      "outputs": []
    },
    {
      "cell_type": "code",
      "source": [
        "X_train.shape"
      ],
      "metadata": {
        "colab": {
          "base_uri": "https://localhost:8080/"
        },
        "id": "mrmXotT6vTpV",
        "outputId": "0379d6e7-a4f0-4a52-c1df-bfc61aee50c4"
      },
      "execution_count": null,
      "outputs": [
        {
          "output_type": "execute_result",
          "data": {
            "text/plain": [
              "(3697, 150, 150, 1)"
            ]
          },
          "metadata": {},
          "execution_count": 40
        }
      ]
    },
    {
      "cell_type": "code",
      "source": [
        "X_test.shape"
      ],
      "metadata": {
        "colab": {
          "base_uri": "https://localhost:8080/"
        },
        "id": "GFmCRXogvW2J",
        "outputId": "eb55bf54-09c2-42dd-bc4b-831253f51391"
      },
      "execution_count": null,
      "outputs": [
        {
          "output_type": "execute_result",
          "data": {
            "text/plain": [
              "(1944, 150, 150, 1)"
            ]
          },
          "metadata": {},
          "execution_count": 41
        }
      ]
    },
    {
      "cell_type": "code",
      "source": [
        "model=Sequential()\n",
        "model.add(Conv2D(32,(3,3),input_shape=(150,150,1),activation='relu'))\n",
        "model.add(MaxPool2D(2,2))\n",
        "model.add(Conv2D(32,(3,3),activation='relu'))\n",
        "model.add(MaxPool2D(2,2))\n",
        "model.add(Flatten())\n",
        "model.add(Dense(100,activation='relu'))\n",
        "model.add(Dense(4,activation='softmax'))"
      ],
      "metadata": {
        "id": "fhITYwdsvZ6H"
      },
      "execution_count": null,
      "outputs": []
    },
    {
      "cell_type": "code",
      "source": [
        "model.compile(optimizer='adam',loss='sparse_categorical_crossentropy',metrics=['accuracy'])"
      ],
      "metadata": {
        "id": "ZwaZHrOdvdlQ"
      },
      "execution_count": null,
      "outputs": []
    },
    {
      "cell_type": "code",
      "source": [
        "history=model.fit(X_train,y_train,epochs=20,batch_size=20)"
      ],
      "metadata": {
        "colab": {
          "base_uri": "https://localhost:8080/"
        },
        "id": "LT-gZgmZvjaX",
        "outputId": "a26bfe7a-1e21-4793-cb28-1dfa7b1de343"
      },
      "execution_count": null,
      "outputs": [
        {
          "output_type": "stream",
          "name": "stdout",
          "text": [
            "Epoch 1/20\n",
            "185/185 [==============================] - 91s 488ms/step - loss: 0.8947 - accuracy: 0.5794\n",
            "Epoch 2/20\n",
            "185/185 [==============================] - 85s 462ms/step - loss: 0.7312 - accuracy: 0.6741\n",
            "Epoch 3/20\n",
            "185/185 [==============================] - 86s 465ms/step - loss: 0.7123 - accuracy: 0.6889\n",
            "Epoch 4/20\n",
            "185/185 [==============================] - 84s 453ms/step - loss: 0.7148 - accuracy: 0.6949\n",
            "Epoch 5/20\n",
            "185/185 [==============================] - 85s 458ms/step - loss: 0.6986 - accuracy: 0.7006\n",
            "Epoch 6/20\n",
            "185/185 [==============================] - 93s 504ms/step - loss: 0.6870 - accuracy: 0.7016\n",
            "Epoch 7/20\n",
            "185/185 [==============================] - 91s 490ms/step - loss: 0.6948 - accuracy: 0.6954\n",
            "Epoch 8/20\n",
            "185/185 [==============================] - 88s 476ms/step - loss: 0.6772 - accuracy: 0.7071\n",
            "Epoch 9/20\n",
            "185/185 [==============================] - 85s 459ms/step - loss: 0.6680 - accuracy: 0.7119\n",
            "Epoch 10/20\n",
            "185/185 [==============================] - 85s 462ms/step - loss: 0.6859 - accuracy: 0.7038\n",
            "Epoch 11/20\n",
            "185/185 [==============================] - 91s 493ms/step - loss: 0.6749 - accuracy: 0.7100\n",
            "Epoch 12/20\n",
            "185/185 [==============================] - 89s 481ms/step - loss: 0.6743 - accuracy: 0.7092\n",
            "Epoch 13/20\n",
            "185/185 [==============================] - 84s 452ms/step - loss: 0.6713 - accuracy: 0.7054\n",
            "Epoch 14/20\n",
            "185/185 [==============================] - 86s 465ms/step - loss: 0.6617 - accuracy: 0.7136\n",
            "Epoch 15/20\n",
            "185/185 [==============================] - 84s 454ms/step - loss: 0.6534 - accuracy: 0.7184\n",
            "Epoch 16/20\n",
            "185/185 [==============================] - 84s 450ms/step - loss: 0.6716 - accuracy: 0.7108\n",
            "Epoch 17/20\n",
            "185/185 [==============================] - 85s 459ms/step - loss: 0.6558 - accuracy: 0.7111\n",
            "Epoch 18/20\n",
            "185/185 [==============================] - 86s 467ms/step - loss: 0.6624 - accuracy: 0.7160\n",
            "Epoch 19/20\n",
            "185/185 [==============================] - 91s 491ms/step - loss: 0.6666 - accuracy: 0.7016\n",
            "Epoch 20/20\n",
            "185/185 [==============================] - 87s 470ms/step - loss: 0.6575 - accuracy: 0.7168\n"
          ]
        }
      ]
    },
    {
      "cell_type": "code",
      "source": [
        "loss,accuracy=model.evaluate(X_test,y_test)\n",
        "print(\"LOSS :\",loss)\n",
        "print(\"Accuracy :\",accuracy)"
      ],
      "metadata": {
        "id": "DaoxVNKcvkGI",
        "colab": {
          "base_uri": "https://localhost:8080/"
        },
        "outputId": "4713197d-531c-44a1-80cb-316a79db8e98"
      },
      "execution_count": null,
      "outputs": [
        {
          "output_type": "stream",
          "name": "stdout",
          "text": [
            "61/61 [==============================] - 14s 223ms/step - loss: 0.7885 - accuracy: 0.6641\n",
            "LOSS : 0.7885316610336304\n",
            "Accuracy : 0.6640946269035339\n"
          ]
        }
      ]
    },
    {
      "cell_type": "code",
      "source": [
        "img=imread('/content/drive/MyDrive/CNN/Test_S/cloudy/train_101.jpg')\n",
        "img"
      ],
      "metadata": {
        "id": "FvsEnONqwZql",
        "colab": {
          "base_uri": "https://localhost:8080/"
        },
        "outputId": "5a601502-34db-4198-e659-cfeec678aaf7"
      },
      "execution_count": null,
      "outputs": [
        {
          "output_type": "execute_result",
          "data": {
            "text/plain": [
              "array([[[107, 106, 121,   0],\n",
              "        [113, 111, 127,   0],\n",
              "        [117, 115, 132,   0],\n",
              "        ...,\n",
              "        [158, 152, 160,   0],\n",
              "        [156, 152, 160,   0],\n",
              "        [155, 152, 160,   0]],\n",
              "\n",
              "       [[ 98,  97, 111,   0],\n",
              "        [104, 103, 118,   0],\n",
              "        [110, 108, 124,   0],\n",
              "        ...,\n",
              "        [158, 153, 161,   0],\n",
              "        [157, 153, 161,   0],\n",
              "        [157, 153, 161,   0]],\n",
              "\n",
              "       [[ 86,  87,  99,   0],\n",
              "        [ 93,  94, 107,   0],\n",
              "        [100, 101, 114,   0],\n",
              "        ...,\n",
              "        [158, 154, 162,   0],\n",
              "        [159, 154, 162,   0],\n",
              "        [159, 155, 163,   0]],\n",
              "\n",
              "       ...,\n",
              "\n",
              "       [[ 49,  53,  67,   0],\n",
              "        [ 51,  54,  69,   0],\n",
              "        [ 53,  55,  71,   0],\n",
              "        ...,\n",
              "        [112, 112, 124,   0],\n",
              "        [112, 113, 125,   0],\n",
              "        [116, 118, 131,   0]],\n",
              "\n",
              "       [[ 52,  54,  71,   0],\n",
              "        [ 52,  55,  71,   0],\n",
              "        [ 51,  56,  70,   0],\n",
              "        ...,\n",
              "        [114, 112, 126,   0],\n",
              "        [112, 110, 125,   0],\n",
              "        [114, 112, 128,   0]],\n",
              "\n",
              "       [[ 54,  55,  74,   0],\n",
              "        [ 52,  55,  71,   0],\n",
              "        [ 50,  55,  68,   0],\n",
              "        ...,\n",
              "        [114, 111, 126,   0],\n",
              "        [112, 106, 124,   0],\n",
              "        [112, 106, 126,   0]]], dtype=uint8)"
            ]
          },
          "metadata": {},
          "execution_count": 45
        }
      ]
    },
    {
      "cell_type": "code",
      "source": [
        "img=resize(img,(150,150,1))\n",
        "img.shape"
      ],
      "metadata": {
        "id": "6m2T0yHcwmbC",
        "colab": {
          "base_uri": "https://localhost:8080/"
        },
        "outputId": "1374df0a-0754-434f-f362-69a7294f0e2b"
      },
      "execution_count": null,
      "outputs": [
        {
          "output_type": "execute_result",
          "data": {
            "text/plain": [
              "(150, 150, 1)"
            ]
          },
          "metadata": {},
          "execution_count": 46
        }
      ]
    },
    {
      "cell_type": "code",
      "source": [
        "img=img.reshape(1,150,150,1)\n",
        "img.shape"
      ],
      "metadata": {
        "id": "VJDA-DVLxE1v",
        "colab": {
          "base_uri": "https://localhost:8080/"
        },
        "outputId": "19994279-30f2-49ad-f756-cb6ce584be66"
      },
      "execution_count": null,
      "outputs": [
        {
          "output_type": "execute_result",
          "data": {
            "text/plain": [
              "(1, 150, 150, 1)"
            ]
          },
          "metadata": {},
          "execution_count": 47
        }
      ]
    },
    {
      "cell_type": "code",
      "source": [
        "pred=model.predict(img)\n",
        "pred"
      ],
      "metadata": {
        "id": "WXJsVxMGxHtk",
        "colab": {
          "base_uri": "https://localhost:8080/"
        },
        "outputId": "63358603-82f6-4d7c-9da1-d8998ff35b3c"
      },
      "execution_count": null,
      "outputs": [
        {
          "output_type": "stream",
          "name": "stdout",
          "text": [
            "1/1 [==============================] - 0s 122ms/step\n"
          ]
        },
        {
          "output_type": "execute_result",
          "data": {
            "text/plain": [
              "array([[9.181443e-01, 9.319791e-04, 8.024281e-02, 6.809492e-04]],\n",
              "      dtype=float32)"
            ]
          },
          "metadata": {},
          "execution_count": 48
        }
      ]
    },
    {
      "cell_type": "code",
      "source": [
        "ind=pred.argmax(axis=1)\n",
        "ind"
      ],
      "metadata": {
        "id": "jpLC0T4wxMe4",
        "colab": {
          "base_uri": "https://localhost:8080/"
        },
        "outputId": "d63e8469-be04-401f-a9c9-a94b0fefc43f"
      },
      "execution_count": null,
      "outputs": [
        {
          "output_type": "execute_result",
          "data": {
            "text/plain": [
              "array([0])"
            ]
          },
          "metadata": {},
          "execution_count": 49
        }
      ]
    },
    {
      "cell_type": "code",
      "source": [
        "Categories[ind.item()]"
      ],
      "metadata": {
        "id": "irdlGynYxPBF",
        "colab": {
          "base_uri": "https://localhost:8080/",
          "height": 35
        },
        "outputId": "b89b28cb-bbd8-4bac-bcb7-1900d38926d8"
      },
      "execution_count": null,
      "outputs": [
        {
          "output_type": "execute_result",
          "data": {
            "text/plain": [
              "'cloudy'"
            ],
            "application/vnd.google.colaboratory.intrinsic+json": {
              "type": "string"
            }
          },
          "metadata": {},
          "execution_count": 50
        }
      ]
    },
    {
      "cell_type": "code",
      "source": [
        "img1=imread('/content/drive/MyDrive/CNN/Test_S/water/SeaLake_1004.jpg')\n",
        "img1"
      ],
      "metadata": {
        "id": "d6DNrk2V5PK4",
        "colab": {
          "base_uri": "https://localhost:8080/",
          "height": 104
        },
        "outputId": "d9ba3b8a-cd06-40b0-bafe-c93dddd079cd"
      },
      "execution_count": null,
      "outputs": [
        {
          "output_type": "execute_result",
          "data": {
            "text/plain": [
              "array([[[23, 42, 72],\n",
              "        [24, 43, 73],\n",
              "        [23, 42, 74],\n",
              "        ...,\n",
              "        [24, 43, 73],\n",
              "        [23, 42, 72],\n",
              "        [23, 42, 72]],\n",
              "\n",
              "       [[22, 41, 71],\n",
              "        [23, 42, 72],\n",
              "        [23, 42, 74],\n",
              "        ...,\n",
              "        [24, 43, 73],\n",
              "        [23, 42, 72],\n",
              "        [23, 42, 72]],\n",
              "\n",
              "       [[22, 43, 72],\n",
              "        [24, 43, 73],\n",
              "        [23, 42, 72],\n",
              "        ...,\n",
              "        [23, 44, 73],\n",
              "        [23, 42, 72],\n",
              "        [23, 42, 72]],\n",
              "\n",
              "       ...,\n",
              "\n",
              "       [[22, 43, 72],\n",
              "        [22, 43, 72],\n",
              "        [23, 44, 75],\n",
              "        ...,\n",
              "        [22, 43, 72],\n",
              "        [23, 42, 72],\n",
              "        [23, 42, 72]],\n",
              "\n",
              "       [[23, 44, 73],\n",
              "        [23, 44, 73],\n",
              "        [24, 43, 73],\n",
              "        ...,\n",
              "        [23, 42, 72],\n",
              "        [23, 42, 72],\n",
              "        [24, 43, 73]],\n",
              "\n",
              "       [[23, 44, 73],\n",
              "        [23, 44, 73],\n",
              "        [23, 42, 72],\n",
              "        ...,\n",
              "        [23, 42, 72],\n",
              "        [24, 43, 73],\n",
              "        [24, 43, 73]]], dtype=uint8)"
            ],
            "text/html": [
              "<style>\n",
              "      .ndarray_repr .ndarray_raw_data {\n",
              "        display: none;\n",
              "      }\n",
              "      .ndarray_repr.show_array .ndarray_raw_data {\n",
              "        display: block;\n",
              "      }\n",
              "      .ndarray_repr.show_array .ndarray_image_preview {\n",
              "        display: none;\n",
              "      }\n",
              "      </style>\n",
              "      <div id=\"id-da7f963e-99ea-48be-9f76-2e03fbc2f5bb\" class=\"ndarray_repr\"><pre>ndarray (64, 64, 3) <button style=\"padding: 0 2px;\">show data</button></pre><img src=\"data:image/png;base64,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\" class=\"ndarray_image_preview\" /><pre class=\"ndarray_raw_data\">array([[[23, 42, 72],\n",
              "        [24, 43, 73],\n",
              "        [23, 42, 74],\n",
              "        ...,\n",
              "        [24, 43, 73],\n",
              "        [23, 42, 72],\n",
              "        [23, 42, 72]],\n",
              "\n",
              "       [[22, 41, 71],\n",
              "        [23, 42, 72],\n",
              "        [23, 42, 74],\n",
              "        ...,\n",
              "        [24, 43, 73],\n",
              "        [23, 42, 72],\n",
              "        [23, 42, 72]],\n",
              "\n",
              "       [[22, 43, 72],\n",
              "        [24, 43, 73],\n",
              "        [23, 42, 72],\n",
              "        ...,\n",
              "        [23, 44, 73],\n",
              "        [23, 42, 72],\n",
              "        [23, 42, 72]],\n",
              "\n",
              "       ...,\n",
              "\n",
              "       [[22, 43, 72],\n",
              "        [22, 43, 72],\n",
              "        [23, 44, 75],\n",
              "        ...,\n",
              "        [22, 43, 72],\n",
              "        [23, 42, 72],\n",
              "        [23, 42, 72]],\n",
              "\n",
              "       [[23, 44, 73],\n",
              "        [23, 44, 73],\n",
              "        [24, 43, 73],\n",
              "        ...,\n",
              "        [23, 42, 72],\n",
              "        [23, 42, 72],\n",
              "        [24, 43, 73]],\n",
              "\n",
              "       [[23, 44, 73],\n",
              "        [23, 44, 73],\n",
              "        [23, 42, 72],\n",
              "        ...,\n",
              "        [23, 42, 72],\n",
              "        [24, 43, 73],\n",
              "        [24, 43, 73]]], dtype=uint8)</pre></div><script>\n",
              "      (() => {\n",
              "      const titles = ['show data', 'hide data'];\n",
              "      let index = 0\n",
              "      document.querySelector('#id-da7f963e-99ea-48be-9f76-2e03fbc2f5bb button').onclick = (e) => {\n",
              "        document.querySelector('#id-da7f963e-99ea-48be-9f76-2e03fbc2f5bb').classList.toggle('show_array');\n",
              "        index = (++index) % 2;\n",
              "        document.querySelector('#id-da7f963e-99ea-48be-9f76-2e03fbc2f5bb button').textContent = titles[index];\n",
              "        e.preventDefault();\n",
              "        e.stopPropagation();\n",
              "      }\n",
              "      })();\n",
              "    </script>"
            ]
          },
          "metadata": {},
          "execution_count": 51
        }
      ]
    },
    {
      "cell_type": "code",
      "source": [
        "img1=resize(img1,(150,150,1))\n",
        "img1.shape"
      ],
      "metadata": {
        "id": "lzBwASpb5e_p",
        "colab": {
          "base_uri": "https://localhost:8080/"
        },
        "outputId": "5e9c2f9e-2e9c-4f3a-da37-0ad22aeb75d3"
      },
      "execution_count": null,
      "outputs": [
        {
          "output_type": "execute_result",
          "data": {
            "text/plain": [
              "(150, 150, 1)"
            ]
          },
          "metadata": {},
          "execution_count": 52
        }
      ]
    },
    {
      "cell_type": "code",
      "source": [
        "img1=img1.reshape(1,150,150,1)\n",
        "img1.shape"
      ],
      "metadata": {
        "id": "JqR_nfJP5jIz",
        "colab": {
          "base_uri": "https://localhost:8080/"
        },
        "outputId": "795298ca-d7e2-4565-e44d-26e77017f2b8"
      },
      "execution_count": null,
      "outputs": [
        {
          "output_type": "execute_result",
          "data": {
            "text/plain": [
              "(1, 150, 150, 1)"
            ]
          },
          "metadata": {},
          "execution_count": 53
        }
      ]
    },
    {
      "cell_type": "code",
      "source": [
        "pred1=model.predict(img1)\n",
        "pred1"
      ],
      "metadata": {
        "id": "bw2wLwka5oCh",
        "colab": {
          "base_uri": "https://localhost:8080/"
        },
        "outputId": "dac4b56d-5deb-4ca4-981e-5b9f03e39f4a"
      },
      "execution_count": null,
      "outputs": [
        {
          "output_type": "stream",
          "name": "stdout",
          "text": [
            "1/1 [==============================] - 0s 34ms/step\n"
          ]
        },
        {
          "output_type": "execute_result",
          "data": {
            "text/plain": [
              "array([[2.03750692e-02, 1.11074924e-01, 8.68548214e-01, 1.74186630e-06]],\n",
              "      dtype=float32)"
            ]
          },
          "metadata": {},
          "execution_count": 54
        }
      ]
    },
    {
      "cell_type": "code",
      "source": [
        "inde=pred1.argmax(axis=1)\n",
        "inde"
      ],
      "metadata": {
        "id": "cAeCBelN52kj",
        "colab": {
          "base_uri": "https://localhost:8080/"
        },
        "outputId": "c3bb34ce-a373-4e25-c281-25f3179cf2f7"
      },
      "execution_count": null,
      "outputs": [
        {
          "output_type": "execute_result",
          "data": {
            "text/plain": [
              "array([2])"
            ]
          },
          "metadata": {},
          "execution_count": 55
        }
      ]
    },
    {
      "cell_type": "code",
      "source": [
        "Categories[inde.item()]"
      ],
      "metadata": {
        "id": "iXIwtFXe5-nx",
        "colab": {
          "base_uri": "https://localhost:8080/",
          "height": 35
        },
        "outputId": "9b37c1c0-d59a-4ca2-8e57-514dfef2008e"
      },
      "execution_count": null,
      "outputs": [
        {
          "output_type": "execute_result",
          "data": {
            "text/plain": [
              "'water'"
            ],
            "application/vnd.google.colaboratory.intrinsic+json": {
              "type": "string"
            }
          },
          "metadata": {},
          "execution_count": 56
        }
      ]
    },
    {
      "cell_type": "code",
      "source": [
        "import matplotlib.pyplot as plt\n",
        "plt.plot(history.history['loss'],color='red',label='train')\n",
        "plt.legend()\n",
        "plt.show()\n"
      ],
      "metadata": {
        "id": "VeGVH3OSSPWW",
        "colab": {
          "base_uri": "https://localhost:8080/",
          "height": 430
        },
        "outputId": "bd54b751-a8a4-4ca2-d206-c4c3a5594ac6"
      },
      "execution_count": null,
      "outputs": [
        {
          "output_type": "display_data",
          "data": {
            "text/plain": [
              "<Figure size 640x480 with 1 Axes>"
            ],
            "image/png": "[encoded data removed]"
          },
          "metadata": {}
        }
      ]
    },
    {
      "cell_type": "code",
      "source": [
        "plt.plot(history.history['accuracy'],color='red',label='train')\n",
        "plt.legend()\n",
        "plt.show()"
      ],
      "metadata": {
        "id": "uzKLnyufS-WC",
        "colab": {
          "base_uri": "https://localhost:8080/",
          "height": 430
        },
        "outputId": "9de7841b-e121-46f4-c7df-20facff26c7d"
      },
      "execution_count": null,
      "outputs": [
        {
          "output_type": "display_data",
          "data": {
            "text/plain": [
              "<Figure size 640x480 with 1 Axes>"
            ],
            "image/png": "[encoded data removed]"
          },
          "metadata": {}
        }
      ]
    }
  ]
}