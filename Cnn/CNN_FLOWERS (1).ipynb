{
  "nbformat": 4,
  "nbformat_minor": 0,
  "metadata": {
    "colab": {
      "provenance": []
    },
    "kernelspec": {
      "name": "python3",
      "display_name": "Python 3"
    },
    "language_info": {
      "name": "python"
    }
  },
  "cells": [
    {
      "cell_type": "markdown",
      "source": [
        "# **PROJECT : FLOWERS RECOGNITION**\n",
        "\n",
        "![flower1.jfif](data:image/jpeg;base64,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)"
      ],
      "metadata": {
        "id": "o9tdgfTr79jp"
      }
    },
    {
      "cell_type": "markdown",
      "source": [
        "**About Dataset**\n",
        "\n",
        "*Context* :\n",
        "\n",
        "**This dataset contains 4242 images of flowers.\n",
        "The data collection is based on the data flicr, google images, yandex images.\n",
        "You can use this datastet to recognize plants from the photo.**\n",
        "\n",
        "*Content* :\n",
        "\n",
        "**The pictures are divided into five classes: chamomile, tulip, rose, sunflower, dandelion.\n",
        "For each class there are about 800 photos. Photos are not high resolution, about 320x240 pixels. Photos are not reduced to a single size, they have different proportions!**"
      ],
      "metadata": {
        "id": "rNldS4oZ8Ymf"
      }
    },
    {
      "cell_type": "markdown",
      "source": [
        "**Importing Necessary Libraries**"
      ],
      "metadata": {
        "id": "PGMjXes8ATXH"
      }
    },
    {
      "cell_type": "code",
      "execution_count": 1,
      "metadata": {
        "id": "j2agHA1P7vFf"
      },
      "outputs": [],
      "source": [
        "import pandas as pd\n",
        "from skimage.io import imread #it is used to read images from data folder\n",
        "from skimage.transform import resize #it is used to resize the image\n",
        "import os #to manage files and directories\n",
        "from keras.models import Sequential #for model building\n",
        "from keras.layers import Dense,Conv2D,MaxPool2D,Flatten,Dropout,MaxPooling2D # these are the layers used here\n",
        "import matplotlib.pyplot as plt # for visualization\n",
        "import seaborn as sns #for visualization\n",
        "from sklearn.preprocessing import LabelEncoder #to change the datatype into integer\n",
        "import  numpy as np\n",
        "from sklearn.metrics import classification_report,ConfusionMatrixDisplay\n",
        "import warnings\n",
        "warnings.filterwarnings('ignore')\n",
        "\n"
      ]
    },
    {
      "cell_type": "markdown",
      "source": [
        "**Store image**"
      ],
      "metadata": {
        "id": "kbfcjMeIEqrF"
      }
    },
    {
      "cell_type": "code",
      "source": [
        "data=[]\n",
        "target=[]\n",
        "categories=['rose','tulip','sunflower','dandelion','daisy']\n",
        "datadir='/content/drive/MyDrive/Flowers_CNN_Project/flowers'\n",
        "for category in categories:\n",
        "  print(\"Loading Category.......\",category)\n",
        "  path=os.path.join(datadir,category)\n",
        "  #print(path)\n",
        "  images=os.listdir(path)\n",
        "  #print(images)\n",
        "  for img in images:\n",
        "    img_path=os.path.join(path,img)\n",
        "    #print(img_path)\n",
        "    img_arr=imread(img_path)\n",
        "    #print(img_arr)\n",
        "    img_resized=resize(img_arr,(150,150,3))\n",
        "    data.append(img_resized)\n",
        "    target.append(categories.index(category))\n",
        "  print(\"Completed...\",category)\n"
      ],
      "metadata": {
        "colab": {
          "base_uri": "https://localhost:8080/"
        },
        "id": "DHPxTGwsEfAC",
        "outputId": "e5ab2ed5-33e4-4345-8a23-742e57c9f939"
      },
      "execution_count": 2,
      "outputs": [
        {
          "output_type": "stream",
          "name": "stdout",
          "text": [
            "Loading Category....... rose\n",
            "Completed... rose\n",
            "Loading Category....... tulip\n",
            "Completed... tulip\n",
            "Loading Category....... sunflower\n",
            "Completed... sunflower\n",
            "Loading Category....... dandelion\n",
            "Completed... dandelion\n",
            "Loading Category....... daisy\n",
            "Completed... daisy\n"
          ]
        }
      ]
    },
    {
      "cell_type": "markdown",
      "source": [
        "**Convert list into array**"
      ],
      "metadata": {
        "id": "AAfZH-t5FLPf"
      }
    },
    {
      "cell_type": "code",
      "source": [
        "X_train=np.array(data)\n",
        "y_train=np.array(target)"
      ],
      "metadata": {
        "id": "XzFuBCqAFDkG"
      },
      "execution_count": null,
      "outputs": []
    },
    {
      "cell_type": "markdown",
      "source": [
        "**Find the shape of X and y**"
      ],
      "metadata": {
        "id": "um5XFyvAFUkz"
      }
    },
    {
      "cell_type": "code",
      "source": [
        "X_train.shape"
      ],
      "metadata": {
        "id": "MZadekZlFlKZ"
      },
      "execution_count": null,
      "outputs": []
    },
    {
      "cell_type": "code",
      "source": [
        "y_train.shape"
      ],
      "metadata": {
        "id": "lSH2c6NxFvE7"
      },
      "execution_count": null,
      "outputs": []
    },
    {
      "cell_type": "markdown",
      "source": [
        "**Model Creation**"
      ],
      "metadata": {
        "id": "3a138FanFrH0"
      }
    },
    {
      "cell_type": "code",
      "source": [
        "model = Sequential()\n",
        "model.add(Conv2D(64, (3, 3), input_shape=(150,150,3), activation='relu'))\n",
        "model.add(MaxPooling2D(2, 2))\n",
        "model.add(Conv2D(64, (3, 3), activation='relu'))\n",
        "model.add(MaxPooling2D(2, 2))\n",
        "model.add(Conv2D(128, (3, 3), activation='relu'))\n",
        "model.add(MaxPooling2D(2, 2))\n",
        "model.add(Conv2D(128, (3, 3), activation='relu'))\n",
        "model.add(MaxPooling2D(2, 2))\n",
        "model.add(Conv2D(128, (3, 3), activation='relu'))\n",
        "model.add(MaxPooling2D(2, 2))\n",
        "model.add(Flatten())\n",
        "model.add(Dense(256, activation='relu'))\n",
        "model.add(Dropout(0.5))  # Adding dropout for regularization\n",
        "model.add(Dense(128, activation='relu'))\n",
        "model.add(Dense(5, activation='softmax'))"
      ],
      "metadata": {
        "id": "gS6KW3riGFmN"
      },
      "execution_count": null,
      "outputs": []
    },
    {
      "cell_type": "markdown",
      "source": [
        "**Compilation**"
      ],
      "metadata": {
        "id": "xic2MCYEGMAZ"
      }
    },
    {
      "cell_type": "code",
      "source": [
        "model.compile(optimizer='adam', loss='sparse_categorical_crossentropy', metrics=['accuracy'])"
      ],
      "metadata": {
        "id": "1vBZJTghGOhB"
      },
      "execution_count": null,
      "outputs": []
    },
    {
      "cell_type": "code",
      "source": [
        "c=model.fit(X_train,y_train,epochs=25,batch_size=5)"
      ],
      "metadata": {
        "id": "J49LtYZoGPzT"
      },
      "execution_count": null,
      "outputs": []
    },
    {
      "cell_type": "markdown",
      "source": [
        "**Plotting the accuracy and loss**"
      ],
      "metadata": {
        "id": "aLvlfJP8GXQq"
      }
    },
    {
      "cell_type": "code",
      "source": [
        "import matplotlib.pyplot as plt\n",
        "plt.plot(c.history['accuracy'],color='green',label='Accuracy')\n",
        "plt.plot(c.history['loss'],color='red',label='loss')"
      ],
      "metadata": {
        "id": "lxPesXy_GS2-"
      },
      "execution_count": null,
      "outputs": []
    },
    {
      "cell_type": "markdown",
      "source": [
        "**Read a new image**"
      ],
      "metadata": {
        "id": "748k4eaAGhII"
      }
    },
    {
      "cell_type": "code",
      "source": [
        "path1='/content/drive/MyDrive/Flowers_CNN_Project/flowers/dandelion/10437652486_aa86c14985.jpg'\n",
        "img=imread(path1)\n",
        "img"
      ],
      "metadata": {
        "id": "siRWrRuPGjle"
      },
      "execution_count": null,
      "outputs": []
    },
    {
      "cell_type": "markdown",
      "source": [
        "**Resize Image**"
      ],
      "metadata": {
        "id": "_q8r6yP_Gvfl"
      }
    },
    {
      "cell_type": "code",
      "source": [
        "img=resize(img,(150,150,3))\n",
        "img.shape\n"
      ],
      "metadata": {
        "id": "UWZBp9JdGzdQ"
      },
      "execution_count": null,
      "outputs": []
    },
    {
      "cell_type": "code",
      "source": [
        "\n",
        "img=img.reshape(1,150,150,3)\n",
        "img.shape\n"
      ],
      "metadata": {
        "id": "ItNjftk5G2v5"
      },
      "execution_count": null,
      "outputs": []
    },
    {
      "cell_type": "markdown",
      "source": [
        "**Predict a new image**"
      ],
      "metadata": {
        "id": "jjMRF0ktG4CR"
      }
    },
    {
      "cell_type": "code",
      "source": [
        "pred=model.predict(img)\n",
        "pred\n"
      ],
      "metadata": {
        "id": "2Xn_tBWwG2tU"
      },
      "execution_count": null,
      "outputs": []
    },
    {
      "cell_type": "code",
      "source": [
        "pred=model.predict(img)\n",
        "pred\n"
      ],
      "metadata": {
        "id": "VRdqLE8eHEeM"
      },
      "execution_count": null,
      "outputs": []
    },
    {
      "cell_type": "code",
      "source": [
        "\n",
        "ind=pred.argmax(axis=1)\n",
        "ind"
      ],
      "metadata": {
        "id": "8bN1se9HHPFd"
      },
      "execution_count": null,
      "outputs": []
    },
    {
      "cell_type": "code",
      "source": [
        "\n",
        "categories[ind.item()]"
      ],
      "metadata": {
        "id": "EoUObxgqHHiB"
      },
      "execution_count": null,
      "outputs": []
    },
    {
      "cell_type": "markdown",
      "source": [
        "**Save the model**"
      ],
      "metadata": {
        "id": "NlRL3fDEHT-t"
      }
    },
    {
      "cell_type": "code",
      "source": [
        "from keras.models import load_model\n",
        "model.save('flower_model.h5')\n"
      ],
      "metadata": {
        "id": "MCMCGERrHKWi"
      },
      "execution_count": null,
      "outputs": []
    }
  ]
}